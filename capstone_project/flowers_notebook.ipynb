{
 "cells": [
  {
   "cell_type": "code",
   "execution_count": null,
   "id": "a54a1a66",
   "metadata": {},
   "outputs": [],
   "source": [
    "import pandas as pd # data processing, CSV file I/O (e.g. pd.read_csv)\n",
    "import numpy as np # linear algebra\n",
    "import matplotlib.pyplot as plt # data visualization\n",
    "import seaborn as sns #data visualization\n",
    "import os\n",
    "\n",
    "from sklearn.metrics import classification_report, confusion_matrix\n",
    "from PIL import Image\n",
    "\n",
    "import tensorflow as tf\n",
    "from tensorflow.keras import optimizers\n",
    "from tensorflow.keras import layers\n",
    "from tensorflow.keras import models\n",
    "from tensorflow.keras.models import Model,load_model, Sequential\n",
    "from tensorflow.keras.layers import Dense, Dropout, Input\n",
    "from tensorflow.keras.optimizers import Adam\n",
    "from tensorflow.keras.callbacks import ModelCheckpoint\n",
    "from tensorflow.keras.preprocessing.image import ImageDataGenerator\n"
   ]
  },
  {
   "cell_type": "code",
   "execution_count": null,
   "id": "8cd2a001",
   "metadata": {},
   "outputs": [],
   "source": [
    "from tensorflow.keras.applications.xception import Xception\n",
    "from tensorflow.keras.applications.xception import preprocess_input\n",
    "from tensorflow.keras.applications.xception import decode_predictions"
   ]
  },
  {
   "cell_type": "code",
   "execution_count": null,
   "id": "432a949d",
   "metadata": {},
   "outputs": [],
   "source": [
    "# cwd = os.getcwd()  # Get the current working directory (cwd)\n",
    "# print(cwd)\n",
    "# files = os.listdir(cwd) \n",
    "# print(files) \n",
    "# os.chdir(\"/home/nikosili/projects/datatalks_zoomcamp/CNN/chest_xray\")\n",
    "# print(cwd)"
   ]
  },
  {
   "cell_type": "code",
   "execution_count": null,
   "id": "ff84c4c8",
   "metadata": {},
   "outputs": [],
   "source": [
    "dir_ = os.getcwd()\n",
    "data = os.path.join(dir_, 'data')\n",
    "flowers = os.listdir(data) \n",
    "for i in flowers:\n",
    "    print(i,'=',len(os.listdir(os.path.join(dir_, 'data', i))))"
   ]
  },
  {
   "cell_type": "code",
   "execution_count": null,
   "id": "0ec91c89",
   "metadata": {},
   "outputs": [],
   "source": [
    "input_tensor  = Input(shape=(224,224,3))\n",
    "img_size      = (224, 224)\n",
    "batch_size    = 32  \n",
    "num_epochs    = 50\n",
    "learning_rate = 0.0001\n",
    "\n",
    "img_datagen = ImageDataGenerator(\n",
    "                    rescale=1./255,\n",
    "                    rotation_range=50,\n",
    "                    width_shift_range=0.2,\n",
    "                    height_shift_range=0.2,\n",
    "                    shear_range=0.2,\n",
    "                    zoom_range=0.2,\n",
    "                    horizontal_flip = True ,\n",
    "                    vertical_flip = True ,\n",
    "                    fill_mode='nearest',\n",
    "                    validation_split=0.2)\n",
    "\n",
    "\n",
    "train_generator = img_datagen.flow_from_directory(\n",
    "        data,  # training data directory\n",
    "        target_size=img_size,  \n",
    "        batch_size=batch_size,\n",
    "        shuffle=True,\n",
    "        # because it is a classification problem more 2 classes then use class_mode = 'categorical'\n",
    "        class_mode='categorical',\n",
    "        subset='training') # set as training data\n",
    " \n",
    "validation_generator = img_datagen.flow_from_directory(\n",
    "        data, # validation data directory\n",
    "        target_size=img_size, \n",
    "        batch_size=batch_size,\n",
    "        shuffle=False,\n",
    "        # because it is a classification problem more 2 classes then use class_mode = 'categorical'\n",
    "        class_mode='categorical',\n",
    "        subset='validation') # set as validation data"
   ]
  },
  {
   "cell_type": "code",
   "execution_count": null,
   "id": "f364e566",
   "metadata": {},
   "outputs": [],
   "source": [
    "base_model = Xception(weights='imagenet', pooling='avg', include_top=False,input_shape=(224, 224, 3))"
   ]
  },
  {
   "cell_type": "code",
   "execution_count": null,
   "id": "3367be0f",
   "metadata": {},
   "outputs": [],
   "source": [
    "base_model.trainable = True\n",
    "\n",
    "model = models.Sequential()\n",
    "model.add(base_model)\n",
    "model.add(layers.Dense(256, activation='relu'))\n",
    "model.add(layers.Dropout(0.5))\n",
    "model.add(layers.Dense(7, activation='softmax')) #softmax for multi-class classification\n",
    "\n",
    "\n",
    "model.summary()"
   ]
  },
  {
   "cell_type": "code",
   "execution_count": null,
   "id": "20336392",
   "metadata": {},
   "outputs": [],
   "source": [
    "# Checkpoint\n",
    "\n",
    "model_file_path='./model.hdf5'\n",
    "\n",
    "checkpoints = ModelCheckpoint(model_file_path,monitor='val_accuracy',\n",
    "                                  mode='max',save_best_only=True)"
   ]
  },
  {
   "cell_type": "code",
   "execution_count": null,
   "id": "f3f17dd7",
   "metadata": {},
   "outputs": [],
   "source": [
    "# Model Compile\n",
    "\n",
    "model.compile(loss='categorical_crossentropy',\n",
    "              optimizer=optimizers.Adam(learning_rate=learning_rate),\n",
    "              metrics=['accuracy'])"
   ]
  },
  {
   "cell_type": "code",
   "execution_count": null,
   "id": "e05d5fa5",
   "metadata": {},
   "outputs": [],
   "source": [
    "# Fit Model\n",
    "print(len(train_generator))\n",
    "print(len(validation_generator))\n",
    "\n",
    "steps_per_epoch=train_generator.n/batch_size\n",
    "validation_steps=validation_generator.n/batch_size\n",
    "\n",
    "result = model.fit(\n",
    "      train_generator,\n",
    "      steps_per_epoch=steps_per_epoch,\n",
    "      epochs=num_epochs, \n",
    "      validation_data=validation_generator,\n",
    "      validation_steps=validation_steps,\n",
    "      verbose=1, \n",
    "      callbacks=[checkpoints]\n",
    "      )"
   ]
  },
  {
   "cell_type": "code",
   "execution_count": null,
   "id": "00733e48",
   "metadata": {},
   "outputs": [],
   "source": [
    "data"
   ]
  },
  {
   "cell_type": "code",
   "execution_count": null,
   "id": "4e704b22",
   "metadata": {},
   "outputs": [],
   "source": []
  }
 ],
 "metadata": {
  "kernelspec": {
   "display_name": "cnn_mle",
   "language": "python",
   "name": "cnn_mle"
  },
  "language_info": {
   "codemirror_mode": {
    "name": "ipython",
    "version": 3
   },
   "file_extension": ".py",
   "mimetype": "text/x-python",
   "name": "python",
   "nbconvert_exporter": "python",
   "pygments_lexer": "ipython3",
   "version": "3.10.12"
  }
 },
 "nbformat": 4,
 "nbformat_minor": 5
}
