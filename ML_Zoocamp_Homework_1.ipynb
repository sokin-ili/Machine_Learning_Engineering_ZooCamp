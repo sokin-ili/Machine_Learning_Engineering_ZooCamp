{
 "cells": [
  {
   "cell_type": "code",
   "execution_count": 15,
   "id": "09a252fb",
   "metadata": {
    "ExecuteTime": {
     "end_time": "2023-09-15T12:14:47.420133Z",
     "start_time": "2023-09-15T12:14:47.407669Z"
    }
   },
   "outputs": [
    {
     "data": {
      "text/plain": [
       "'C:\\\\Users\\\\sokin\\\\Documents\\\\Zoocamp\\\\Homework-1'"
      ]
     },
     "execution_count": 15,
     "metadata": {},
     "output_type": "execute_result"
    }
   ],
   "source": [
    "import os\n",
    "os.chdir(r'C:\\Users\\sokin\\Documents\\Zoocamp\\Homework-1')\n",
    "os.getcwd()"
   ]
  },
  {
   "cell_type": "code",
   "execution_count": 16,
   "id": "6be02572",
   "metadata": {
    "ExecuteTime": {
     "end_time": "2023-09-15T12:15:03.169575Z",
     "start_time": "2023-09-15T12:15:03.153548Z"
    }
   },
   "outputs": [],
   "source": [
    "import pandas as pd\n",
    "import numpy as np"
   ]
  },
  {
   "cell_type": "markdown",
   "id": "2926a1d1",
   "metadata": {},
   "source": [
    "# Question 1"
   ]
  },
  {
   "cell_type": "code",
   "execution_count": 18,
   "id": "77574792",
   "metadata": {
    "ExecuteTime": {
     "end_time": "2023-09-15T12:16:08.951274Z",
     "start_time": "2023-09-15T12:16:08.927473Z"
    }
   },
   "outputs": [
    {
     "name": "stdout",
     "output_type": "stream",
     "text": [
      "pandas version installed: 1.5.3\n"
     ]
    }
   ],
   "source": [
    "print(\"pandas version installed:\", pd.__version__)"
   ]
  },
  {
   "cell_type": "markdown",
   "id": "03ac4ac4",
   "metadata": {},
   "source": [
    "# Question 2"
   ]
  },
  {
   "cell_type": "code",
   "execution_count": 82,
   "id": "2ffa8c33",
   "metadata": {
    "ExecuteTime": {
     "end_time": "2023-09-15T12:31:11.250698Z",
     "start_time": "2023-09-15T12:31:11.201629Z"
    }
   },
   "outputs": [
    {
     "data": {
      "text/html": [
       "<div>\n",
       "<style scoped>\n",
       "    .dataframe tbody tr th:only-of-type {\n",
       "        vertical-align: middle;\n",
       "    }\n",
       "\n",
       "    .dataframe tbody tr th {\n",
       "        vertical-align: top;\n",
       "    }\n",
       "\n",
       "    .dataframe thead th {\n",
       "        text-align: right;\n",
       "    }\n",
       "</style>\n",
       "<table border=\"1\" class=\"dataframe\">\n",
       "  <thead>\n",
       "    <tr style=\"text-align: right;\">\n",
       "      <th></th>\n",
       "      <th>longitude</th>\n",
       "      <th>latitude</th>\n",
       "      <th>housing_median_age</th>\n",
       "      <th>total_rooms</th>\n",
       "      <th>total_bedrooms</th>\n",
       "      <th>population</th>\n",
       "      <th>households</th>\n",
       "      <th>median_income</th>\n",
       "      <th>median_house_value</th>\n",
       "      <th>ocean_proximity</th>\n",
       "    </tr>\n",
       "  </thead>\n",
       "  <tbody>\n",
       "    <tr>\n",
       "      <th>0</th>\n",
       "      <td>-122.23</td>\n",
       "      <td>37.88</td>\n",
       "      <td>41.0</td>\n",
       "      <td>880.0</td>\n",
       "      <td>129.0</td>\n",
       "      <td>322.0</td>\n",
       "      <td>126.0</td>\n",
       "      <td>8.3252</td>\n",
       "      <td>452600.0</td>\n",
       "      <td>NEAR BAY</td>\n",
       "    </tr>\n",
       "    <tr>\n",
       "      <th>1</th>\n",
       "      <td>-122.22</td>\n",
       "      <td>37.86</td>\n",
       "      <td>21.0</td>\n",
       "      <td>7099.0</td>\n",
       "      <td>1106.0</td>\n",
       "      <td>2401.0</td>\n",
       "      <td>1138.0</td>\n",
       "      <td>8.3014</td>\n",
       "      <td>358500.0</td>\n",
       "      <td>NEAR BAY</td>\n",
       "    </tr>\n",
       "    <tr>\n",
       "      <th>2</th>\n",
       "      <td>-122.24</td>\n",
       "      <td>37.85</td>\n",
       "      <td>52.0</td>\n",
       "      <td>1467.0</td>\n",
       "      <td>190.0</td>\n",
       "      <td>496.0</td>\n",
       "      <td>177.0</td>\n",
       "      <td>7.2574</td>\n",
       "      <td>352100.0</td>\n",
       "      <td>NEAR BAY</td>\n",
       "    </tr>\n",
       "    <tr>\n",
       "      <th>3</th>\n",
       "      <td>-122.25</td>\n",
       "      <td>37.85</td>\n",
       "      <td>52.0</td>\n",
       "      <td>1274.0</td>\n",
       "      <td>235.0</td>\n",
       "      <td>558.0</td>\n",
       "      <td>219.0</td>\n",
       "      <td>5.6431</td>\n",
       "      <td>341300.0</td>\n",
       "      <td>NEAR BAY</td>\n",
       "    </tr>\n",
       "    <tr>\n",
       "      <th>4</th>\n",
       "      <td>-122.25</td>\n",
       "      <td>37.85</td>\n",
       "      <td>52.0</td>\n",
       "      <td>1627.0</td>\n",
       "      <td>280.0</td>\n",
       "      <td>565.0</td>\n",
       "      <td>259.0</td>\n",
       "      <td>3.8462</td>\n",
       "      <td>342200.0</td>\n",
       "      <td>NEAR BAY</td>\n",
       "    </tr>\n",
       "  </tbody>\n",
       "</table>\n",
       "</div>"
      ],
      "text/plain": [
       "   longitude  latitude  housing_median_age  total_rooms  total_bedrooms  \\\n",
       "0    -122.23     37.88                41.0        880.0           129.0   \n",
       "1    -122.22     37.86                21.0       7099.0          1106.0   \n",
       "2    -122.24     37.85                52.0       1467.0           190.0   \n",
       "3    -122.25     37.85                52.0       1274.0           235.0   \n",
       "4    -122.25     37.85                52.0       1627.0           280.0   \n",
       "\n",
       "   population  households  median_income  median_house_value ocean_proximity  \n",
       "0       322.0       126.0         8.3252            452600.0        NEAR BAY  \n",
       "1      2401.0      1138.0         8.3014            358500.0        NEAR BAY  \n",
       "2       496.0       177.0         7.2574            352100.0        NEAR BAY  \n",
       "3       558.0       219.0         5.6431            341300.0        NEAR BAY  \n",
       "4       565.0       259.0         3.8462            342200.0        NEAR BAY  "
      ]
     },
     "execution_count": 82,
     "metadata": {},
     "output_type": "execute_result"
    }
   ],
   "source": [
    "df = pd.read_csv('housing.csv')\n",
    "df.head()"
   ]
  },
  {
   "cell_type": "code",
   "execution_count": 27,
   "id": "ba6ef6ef",
   "metadata": {
    "ExecuteTime": {
     "end_time": "2023-09-15T12:18:06.424754Z",
     "start_time": "2023-09-15T12:18:06.416750Z"
    }
   },
   "outputs": [
    {
     "name": "stdout",
     "output_type": "stream",
     "text": [
      "There are  10 columns in the dataset\n"
     ]
    }
   ],
   "source": [
    "print(\"There are\",len(df.columns),\"columns in the dataset\")"
   ]
  },
  {
   "cell_type": "markdown",
   "id": "1a8ff483",
   "metadata": {},
   "source": [
    "# Question 3"
   ]
  },
  {
   "cell_type": "code",
   "execution_count": 28,
   "id": "e73078ec",
   "metadata": {
    "ExecuteTime": {
     "end_time": "2023-09-15T12:18:28.596904Z",
     "start_time": "2023-09-15T12:18:28.555693Z"
    }
   },
   "outputs": [
    {
     "data": {
      "text/plain": [
       "longitude               0\n",
       "latitude                0\n",
       "housing_median_age      0\n",
       "total_rooms             0\n",
       "total_bedrooms        207\n",
       "population              0\n",
       "households              0\n",
       "median_income           0\n",
       "median_house_value      0\n",
       "ocean_proximity         0\n",
       "dtype: int64"
      ]
     },
     "execution_count": 28,
     "metadata": {},
     "output_type": "execute_result"
    }
   ],
   "source": [
    "df.isna().sum()"
   ]
  },
  {
   "cell_type": "code",
   "execution_count": 40,
   "id": "fcb5b054",
   "metadata": {
    "ExecuteTime": {
     "end_time": "2023-09-15T12:20:33.693450Z",
     "start_time": "2023-09-15T12:20:33.663338Z"
    }
   },
   "outputs": [
    {
     "name": "stdout",
     "output_type": "stream",
     "text": [
      "total_bedrooms has 207 missing values\n"
     ]
    }
   ],
   "source": [
    "print('total_bedrooms has 207 missing values')"
   ]
  },
  {
   "cell_type": "markdown",
   "id": "4325d2d2",
   "metadata": {},
   "source": [
    "# Question 4"
   ]
  },
  {
   "cell_type": "code",
   "execution_count": 43,
   "id": "597fc459",
   "metadata": {
    "ExecuteTime": {
     "end_time": "2023-09-15T12:21:36.743755Z",
     "start_time": "2023-09-15T12:21:36.711762Z"
    }
   },
   "outputs": [
    {
     "name": "stdout",
     "output_type": "stream",
     "text": [
      "ocean_proximity column has 5 unique values\n"
     ]
    }
   ],
   "source": [
    " print('ocean_proximity column has', df.ocean_proximity.nunique(), 'unique values')"
   ]
  },
  {
   "cell_type": "markdown",
   "id": "cd30dc3f",
   "metadata": {},
   "source": [
    "# Question 5"
   ]
  },
  {
   "cell_type": "code",
   "execution_count": 56,
   "id": "25ccb460",
   "metadata": {
    "ExecuteTime": {
     "end_time": "2023-09-15T12:24:21.548184Z",
     "start_time": "2023-09-15T12:24:21.532563Z"
    }
   },
   "outputs": [
    {
     "name": "stdout",
     "output_type": "stream",
     "text": [
      "he average value of the median_house_value for the houses located near the bay is: 259212\n"
     ]
    }
   ],
   "source": [
    "print('he average value of the median_house_value for the houses located near the bay is:', round(df[df.ocean_proximity=='NEAR BAY'].median_house_value.mean()))"
   ]
  },
  {
   "cell_type": "markdown",
   "id": "e88963fa",
   "metadata": {},
   "source": [
    "# Question 6\n",
    " - Calculate the average of total_bedrooms column in the dataset.\n",
    " - Use the fillna method to fill the missing values in total_bedrooms with the mean value from the previous step.\n",
    " - Now, calculate the average of total_bedrooms again.\n",
    " - Has it changed?"
   ]
  },
  {
   "cell_type": "markdown",
   "id": "f7e0a750",
   "metadata": {},
   "source": [
    "###### before"
   ]
  },
  {
   "cell_type": "code",
   "execution_count": 83,
   "id": "069a03ec",
   "metadata": {
    "ExecuteTime": {
     "end_time": "2023-09-15T12:31:16.951162Z",
     "start_time": "2023-09-15T12:31:16.945181Z"
    }
   },
   "outputs": [
    {
     "data": {
      "text/plain": [
       "537.871"
      ]
     },
     "execution_count": 83,
     "metadata": {},
     "output_type": "execute_result"
    }
   ],
   "source": [
    "round(df.total_bedrooms.mean(), 3)"
   ]
  },
  {
   "cell_type": "code",
   "execution_count": 84,
   "id": "137ba4e7",
   "metadata": {
    "ExecuteTime": {
     "end_time": "2023-09-15T12:31:20.496585Z",
     "start_time": "2023-09-15T12:31:20.480228Z"
    }
   },
   "outputs": [],
   "source": [
    "null_idx = df[df.total_bedrooms.isna()].index"
   ]
  },
  {
   "cell_type": "code",
   "execution_count": 85,
   "id": "b8a3b5d7",
   "metadata": {
    "ExecuteTime": {
     "end_time": "2023-09-15T12:31:21.824494Z",
     "start_time": "2023-09-15T12:31:21.808176Z"
    }
   },
   "outputs": [],
   "source": [
    "df.total_bedrooms.fillna(round(df.total_bedrooms.mean(), 3), inplace=True)"
   ]
  },
  {
   "cell_type": "code",
   "execution_count": 86,
   "id": "b3a458c8",
   "metadata": {
    "ExecuteTime": {
     "end_time": "2023-09-15T12:31:22.983723Z",
     "start_time": "2023-09-15T12:31:22.960766Z"
    }
   },
   "outputs": [
    {
     "data": {
      "text/html": [
       "<div>\n",
       "<style scoped>\n",
       "    .dataframe tbody tr th:only-of-type {\n",
       "        vertical-align: middle;\n",
       "    }\n",
       "\n",
       "    .dataframe tbody tr th {\n",
       "        vertical-align: top;\n",
       "    }\n",
       "\n",
       "    .dataframe thead th {\n",
       "        text-align: right;\n",
       "    }\n",
       "</style>\n",
       "<table border=\"1\" class=\"dataframe\">\n",
       "  <thead>\n",
       "    <tr style=\"text-align: right;\">\n",
       "      <th></th>\n",
       "      <th>longitude</th>\n",
       "      <th>latitude</th>\n",
       "      <th>housing_median_age</th>\n",
       "      <th>total_rooms</th>\n",
       "      <th>total_bedrooms</th>\n",
       "      <th>population</th>\n",
       "      <th>households</th>\n",
       "      <th>median_income</th>\n",
       "      <th>median_house_value</th>\n",
       "      <th>ocean_proximity</th>\n",
       "    </tr>\n",
       "  </thead>\n",
       "  <tbody>\n",
       "    <tr>\n",
       "      <th>290</th>\n",
       "      <td>-122.16</td>\n",
       "      <td>37.77</td>\n",
       "      <td>47.0</td>\n",
       "      <td>1256.0</td>\n",
       "      <td>537.871</td>\n",
       "      <td>570.0</td>\n",
       "      <td>218.0</td>\n",
       "      <td>4.3750</td>\n",
       "      <td>161900.0</td>\n",
       "      <td>NEAR BAY</td>\n",
       "    </tr>\n",
       "    <tr>\n",
       "      <th>341</th>\n",
       "      <td>-122.17</td>\n",
       "      <td>37.75</td>\n",
       "      <td>38.0</td>\n",
       "      <td>992.0</td>\n",
       "      <td>537.871</td>\n",
       "      <td>732.0</td>\n",
       "      <td>259.0</td>\n",
       "      <td>1.6196</td>\n",
       "      <td>85100.0</td>\n",
       "      <td>NEAR BAY</td>\n",
       "    </tr>\n",
       "    <tr>\n",
       "      <th>538</th>\n",
       "      <td>-122.28</td>\n",
       "      <td>37.78</td>\n",
       "      <td>29.0</td>\n",
       "      <td>5154.0</td>\n",
       "      <td>537.871</td>\n",
       "      <td>3741.0</td>\n",
       "      <td>1273.0</td>\n",
       "      <td>2.5762</td>\n",
       "      <td>173400.0</td>\n",
       "      <td>NEAR BAY</td>\n",
       "    </tr>\n",
       "    <tr>\n",
       "      <th>563</th>\n",
       "      <td>-122.24</td>\n",
       "      <td>37.75</td>\n",
       "      <td>45.0</td>\n",
       "      <td>891.0</td>\n",
       "      <td>537.871</td>\n",
       "      <td>384.0</td>\n",
       "      <td>146.0</td>\n",
       "      <td>4.9489</td>\n",
       "      <td>247100.0</td>\n",
       "      <td>NEAR BAY</td>\n",
       "    </tr>\n",
       "    <tr>\n",
       "      <th>696</th>\n",
       "      <td>-122.10</td>\n",
       "      <td>37.69</td>\n",
       "      <td>41.0</td>\n",
       "      <td>746.0</td>\n",
       "      <td>537.871</td>\n",
       "      <td>387.0</td>\n",
       "      <td>161.0</td>\n",
       "      <td>3.9063</td>\n",
       "      <td>178400.0</td>\n",
       "      <td>NEAR BAY</td>\n",
       "    </tr>\n",
       "    <tr>\n",
       "      <th>...</th>\n",
       "      <td>...</td>\n",
       "      <td>...</td>\n",
       "      <td>...</td>\n",
       "      <td>...</td>\n",
       "      <td>...</td>\n",
       "      <td>...</td>\n",
       "      <td>...</td>\n",
       "      <td>...</td>\n",
       "      <td>...</td>\n",
       "      <td>...</td>\n",
       "    </tr>\n",
       "    <tr>\n",
       "      <th>20267</th>\n",
       "      <td>-119.19</td>\n",
       "      <td>34.20</td>\n",
       "      <td>18.0</td>\n",
       "      <td>3620.0</td>\n",
       "      <td>537.871</td>\n",
       "      <td>3171.0</td>\n",
       "      <td>779.0</td>\n",
       "      <td>3.3409</td>\n",
       "      <td>220500.0</td>\n",
       "      <td>NEAR OCEAN</td>\n",
       "    </tr>\n",
       "    <tr>\n",
       "      <th>20268</th>\n",
       "      <td>-119.18</td>\n",
       "      <td>34.19</td>\n",
       "      <td>19.0</td>\n",
       "      <td>2393.0</td>\n",
       "      <td>537.871</td>\n",
       "      <td>1938.0</td>\n",
       "      <td>762.0</td>\n",
       "      <td>1.6953</td>\n",
       "      <td>167400.0</td>\n",
       "      <td>NEAR OCEAN</td>\n",
       "    </tr>\n",
       "    <tr>\n",
       "      <th>20372</th>\n",
       "      <td>-118.88</td>\n",
       "      <td>34.17</td>\n",
       "      <td>15.0</td>\n",
       "      <td>4260.0</td>\n",
       "      <td>537.871</td>\n",
       "      <td>1701.0</td>\n",
       "      <td>669.0</td>\n",
       "      <td>5.1033</td>\n",
       "      <td>410700.0</td>\n",
       "      <td>&lt;1H OCEAN</td>\n",
       "    </tr>\n",
       "    <tr>\n",
       "      <th>20460</th>\n",
       "      <td>-118.75</td>\n",
       "      <td>34.29</td>\n",
       "      <td>17.0</td>\n",
       "      <td>5512.0</td>\n",
       "      <td>537.871</td>\n",
       "      <td>2734.0</td>\n",
       "      <td>814.0</td>\n",
       "      <td>6.6073</td>\n",
       "      <td>258100.0</td>\n",
       "      <td>&lt;1H OCEAN</td>\n",
       "    </tr>\n",
       "    <tr>\n",
       "      <th>20484</th>\n",
       "      <td>-118.72</td>\n",
       "      <td>34.28</td>\n",
       "      <td>17.0</td>\n",
       "      <td>3051.0</td>\n",
       "      <td>537.871</td>\n",
       "      <td>1705.0</td>\n",
       "      <td>495.0</td>\n",
       "      <td>5.7376</td>\n",
       "      <td>218600.0</td>\n",
       "      <td>&lt;1H OCEAN</td>\n",
       "    </tr>\n",
       "  </tbody>\n",
       "</table>\n",
       "<p>207 rows × 10 columns</p>\n",
       "</div>"
      ],
      "text/plain": [
       "       longitude  latitude  housing_median_age  total_rooms  total_bedrooms  \\\n",
       "290      -122.16     37.77                47.0       1256.0         537.871   \n",
       "341      -122.17     37.75                38.0        992.0         537.871   \n",
       "538      -122.28     37.78                29.0       5154.0         537.871   \n",
       "563      -122.24     37.75                45.0        891.0         537.871   \n",
       "696      -122.10     37.69                41.0        746.0         537.871   \n",
       "...          ...       ...                 ...          ...             ...   \n",
       "20267    -119.19     34.20                18.0       3620.0         537.871   \n",
       "20268    -119.18     34.19                19.0       2393.0         537.871   \n",
       "20372    -118.88     34.17                15.0       4260.0         537.871   \n",
       "20460    -118.75     34.29                17.0       5512.0         537.871   \n",
       "20484    -118.72     34.28                17.0       3051.0         537.871   \n",
       "\n",
       "       population  households  median_income  median_house_value  \\\n",
       "290         570.0       218.0         4.3750            161900.0   \n",
       "341         732.0       259.0         1.6196             85100.0   \n",
       "538        3741.0      1273.0         2.5762            173400.0   \n",
       "563         384.0       146.0         4.9489            247100.0   \n",
       "696         387.0       161.0         3.9063            178400.0   \n",
       "...           ...         ...            ...                 ...   \n",
       "20267      3171.0       779.0         3.3409            220500.0   \n",
       "20268      1938.0       762.0         1.6953            167400.0   \n",
       "20372      1701.0       669.0         5.1033            410700.0   \n",
       "20460      2734.0       814.0         6.6073            258100.0   \n",
       "20484      1705.0       495.0         5.7376            218600.0   \n",
       "\n",
       "      ocean_proximity  \n",
       "290          NEAR BAY  \n",
       "341          NEAR BAY  \n",
       "538          NEAR BAY  \n",
       "563          NEAR BAY  \n",
       "696          NEAR BAY  \n",
       "...               ...  \n",
       "20267      NEAR OCEAN  \n",
       "20268      NEAR OCEAN  \n",
       "20372       <1H OCEAN  \n",
       "20460       <1H OCEAN  \n",
       "20484       <1H OCEAN  \n",
       "\n",
       "[207 rows x 10 columns]"
      ]
     },
     "execution_count": 86,
     "metadata": {},
     "output_type": "execute_result"
    }
   ],
   "source": [
    "df.iloc[null_idx]"
   ]
  },
  {
   "cell_type": "markdown",
   "id": "99a1e95a",
   "metadata": {},
   "source": [
    "###### after"
   ]
  },
  {
   "cell_type": "code",
   "execution_count": 88,
   "id": "11a92397",
   "metadata": {
    "ExecuteTime": {
     "end_time": "2023-09-15T12:31:32.208277Z",
     "start_time": "2023-09-15T12:31:32.185546Z"
    }
   },
   "outputs": [
    {
     "data": {
      "text/plain": [
       "537.871"
      ]
     },
     "execution_count": 88,
     "metadata": {},
     "output_type": "execute_result"
    }
   ],
   "source": [
    "round(df.total_bedrooms.mean(),3)"
   ]
  },
  {
   "cell_type": "markdown",
   "id": "a321b003",
   "metadata": {},
   "source": [
    "# Question 7\n",
    " - Select all the options located on islands.\n",
    " - Select only columns housing_median_age, total_rooms, total_bedrooms.\n",
    " - Get the underlying NumPy array. Let's call it X.\n",
    " - Compute matrix-matrix multiplication between the transpose of X and X. To get the transpose, use X.T. Let's call the result XTX.\n",
    " - Compute the inverse of XTX.\n",
    " - Create an array y with values [950, 1300, 800, 1000, 1300].\n",
    " - Multiply the inverse of XTX with the transpose of X, and then multiply the result by y. Call the result w.\n",
    " - What's the value of the last element of w?"
   ]
  },
  {
   "cell_type": "code",
   "execution_count": 94,
   "id": "7ac8e288",
   "metadata": {
    "ExecuteTime": {
     "end_time": "2023-09-15T12:42:19.475984Z",
     "start_time": "2023-09-15T12:42:19.457851Z"
    }
   },
   "outputs": [],
   "source": [
    "X = np.array(df[df.ocean_proximity=='ISLAND'][['housing_median_age', 'total_rooms', 'total_bedrooms']].values)"
   ]
  },
  {
   "cell_type": "code",
   "execution_count": 98,
   "id": "0d56c00b",
   "metadata": {
    "ExecuteTime": {
     "end_time": "2023-09-15T12:42:40.430099Z",
     "start_time": "2023-09-15T12:42:40.425698Z"
    }
   },
   "outputs": [
    {
     "data": {
      "text/plain": [
       "array([[  27., 1675.,  521.],\n",
       "       [  52., 2359.,  591.],\n",
       "       [  52., 2127.,  512.],\n",
       "       [  52.,  996.,  264.],\n",
       "       [  29.,  716.,  214.]])"
      ]
     },
     "execution_count": 98,
     "metadata": {},
     "output_type": "execute_result"
    }
   ],
   "source": [
    "X"
   ]
  },
  {
   "cell_type": "code",
   "execution_count": 101,
   "id": "f168f574",
   "metadata": {
    "ExecuteTime": {
     "end_time": "2023-09-15T12:43:42.057643Z",
     "start_time": "2023-09-15T12:43:42.041643Z"
    }
   },
   "outputs": [],
   "source": [
    "XT = X.T"
   ]
  },
  {
   "cell_type": "code",
   "execution_count": 103,
   "id": "a95cff5a",
   "metadata": {
    "ExecuteTime": {
     "end_time": "2023-09-15T12:43:59.244467Z",
     "start_time": "2023-09-15T12:43:59.233458Z"
    }
   },
   "outputs": [],
   "source": [
    "XTX = np.dot(XT, X)"
   ]
  },
  {
   "cell_type": "code",
   "execution_count": 104,
   "id": "f0356376",
   "metadata": {
    "ExecuteTime": {
     "end_time": "2023-09-15T12:44:24.565806Z",
     "start_time": "2023-09-15T12:44:24.545808Z"
    }
   },
   "outputs": [
    {
     "data": {
      "text/plain": [
       "array([[ 9.19403586e-04, -3.66412216e-05,  5.43072261e-05],\n",
       "       [-3.66412216e-05,  8.23303633e-06, -2.77534485e-05],\n",
       "       [ 5.43072261e-05, -2.77534485e-05,  1.00891325e-04]])"
      ]
     },
     "execution_count": 104,
     "metadata": {},
     "output_type": "execute_result"
    }
   ],
   "source": [
    "XTX_inv = np.linalg.inv(XTX)\n",
    "XTX_inv"
   ]
  },
  {
   "cell_type": "code",
   "execution_count": 109,
   "id": "52f8ad2d",
   "metadata": {
    "ExecuteTime": {
     "end_time": "2023-09-15T12:45:24.554404Z",
     "start_time": "2023-09-15T12:45:24.544913Z"
    }
   },
   "outputs": [
    {
     "data": {
      "text/plain": [
       "(5,)"
      ]
     },
     "execution_count": 109,
     "metadata": {},
     "output_type": "execute_result"
    }
   ],
   "source": [
    "y = np.array([950, 1300, 800, 1000, 1300])\n",
    "y.shape"
   ]
  },
  {
   "cell_type": "code",
   "execution_count": 118,
   "id": "80b945f2",
   "metadata": {
    "ExecuteTime": {
     "end_time": "2023-09-15T12:48:19.852377Z",
     "start_time": "2023-09-15T12:48:19.833814Z"
    }
   },
   "outputs": [
    {
     "data": {
      "text/plain": [
       "(3, 5)"
      ]
     },
     "execution_count": 118,
     "metadata": {},
     "output_type": "execute_result"
    }
   ],
   "source": [
    "XTX_inv_XT = np.dot(XTX_inv, XT)\n",
    "XTX_inv_XT.shape"
   ]
  },
  {
   "cell_type": "code",
   "execution_count": 121,
   "id": "57b30b40",
   "metadata": {
    "ExecuteTime": {
     "end_time": "2023-09-15T12:51:31.861751Z",
     "start_time": "2023-09-15T12:51:31.849590Z"
    }
   },
   "outputs": [
    {
     "data": {
      "text/plain": [
       "array([23.12330961, -1.48124183,  5.69922946])"
      ]
     },
     "execution_count": 121,
     "metadata": {},
     "output_type": "execute_result"
    }
   ],
   "source": [
    "w = np.dot(XTX_inv_XT, y)\n",
    "w"
   ]
  },
  {
   "cell_type": "code",
   "execution_count": 123,
   "id": "639d8fb0",
   "metadata": {
    "ExecuteTime": {
     "end_time": "2023-09-15T12:51:52.293908Z",
     "start_time": "2023-09-15T12:51:52.281947Z"
    }
   },
   "outputs": [
    {
     "name": "stdout",
     "output_type": "stream",
     "text": [
      "last element of w: 5.699229455065586\n"
     ]
    }
   ],
   "source": [
    "print('last element of w:', w[-1])"
   ]
  },
  {
   "cell_type": "code",
   "execution_count": null,
   "id": "d71966b1",
   "metadata": {},
   "outputs": [],
   "source": []
  },
  {
   "cell_type": "code",
   "execution_count": null,
   "id": "8793e889",
   "metadata": {},
   "outputs": [],
   "source": []
  }
 ],
 "metadata": {
  "kernelspec": {
   "display_name": "Python 3",
   "language": "python",
   "name": "python3"
  },
  "language_info": {
   "codemirror_mode": {
    "name": "ipython",
    "version": 3
   },
   "file_extension": ".py",
   "mimetype": "text/x-python",
   "name": "python",
   "nbconvert_exporter": "python",
   "pygments_lexer": "ipython3",
   "version": "3.8.8"
  },
  "toc": {
   "base_numbering": 1,
   "nav_menu": {},
   "number_sections": true,
   "sideBar": true,
   "skip_h1_title": false,
   "title_cell": "Table of Contents",
   "title_sidebar": "Contents",
   "toc_cell": false,
   "toc_position": {},
   "toc_section_display": true,
   "toc_window_display": false
  }
 },
 "nbformat": 4,
 "nbformat_minor": 5
}
