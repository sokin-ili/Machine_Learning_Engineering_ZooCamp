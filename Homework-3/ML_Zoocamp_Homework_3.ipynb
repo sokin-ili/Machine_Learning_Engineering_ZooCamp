{
 "cells": [
  {
   "cell_type": "code",
   "execution_count": 6,
   "id": "03c08323",
   "metadata": {
    "ExecuteTime": {
     "end_time": "2023-10-01T14:33:00.773253Z",
     "start_time": "2023-10-01T14:33:00.765306Z"
    }
   },
   "outputs": [
    {
     "data": {
      "text/plain": [
       "'C:\\\\Users\\\\sokin\\\\Documents\\\\Zoocamp\\\\Homework-3'"
      ]
     },
     "execution_count": 6,
     "metadata": {},
     "output_type": "execute_result"
    }
   ],
   "source": [
    "import os\n",
    "os.chdir(r'C:\\Users\\sokin\\Documents\\Zoocamp\\Homework-3')\n",
    "os.getcwd()"
   ]
  },
  {
   "cell_type": "code",
   "execution_count": 375,
   "id": "0e1ee7bf",
   "metadata": {
    "ExecuteTime": {
     "end_time": "2023-10-01T17:50:04.958373Z",
     "start_time": "2023-10-01T17:50:04.942879Z"
    }
   },
   "outputs": [],
   "source": [
    "import pandas as pd\n",
    "import numpy as np\n",
    "import matplotlib.pyplot as plt\n",
    "import seaborn as sns\n",
    "\n",
    "from sklearn.model_selection import train_test_split\n",
    "from sklearn.metrics import mutual_info_score, accuracy_score,mean_squared_error\n",
    "from sklearn.feature_extraction import DictVectorizer\n",
    "from sklearn.linear_model import LogisticRegression, Ridge\n",
    "\n",
    "%matplotlib inline\n",
    "sns.set_theme(style='darkgrid')\n",
    "import warnings\n",
    "warnings.filterwarnings(\"ignore\")"
   ]
  },
  {
   "cell_type": "code",
   "execution_count": 21,
   "id": "63c2bd17",
   "metadata": {
    "ExecuteTime": {
     "end_time": "2023-10-01T14:49:33.417089Z",
     "start_time": "2023-10-01T14:49:33.351471Z"
    }
   },
   "outputs": [
    {
     "data": {
      "text/html": [
       "<div>\n",
       "<style scoped>\n",
       "    .dataframe tbody tr th:only-of-type {\n",
       "        vertical-align: middle;\n",
       "    }\n",
       "\n",
       "    .dataframe tbody tr th {\n",
       "        vertical-align: top;\n",
       "    }\n",
       "\n",
       "    .dataframe thead th {\n",
       "        text-align: right;\n",
       "    }\n",
       "</style>\n",
       "<table border=\"1\" class=\"dataframe\">\n",
       "  <thead>\n",
       "    <tr style=\"text-align: right;\">\n",
       "      <th></th>\n",
       "      <th>Make</th>\n",
       "      <th>Model</th>\n",
       "      <th>Year</th>\n",
       "      <th>Engine Fuel Type</th>\n",
       "      <th>Engine HP</th>\n",
       "      <th>Engine Cylinders</th>\n",
       "      <th>Transmission Type</th>\n",
       "      <th>Driven_Wheels</th>\n",
       "      <th>Number of Doors</th>\n",
       "      <th>Market Category</th>\n",
       "      <th>Vehicle Size</th>\n",
       "      <th>Vehicle Style</th>\n",
       "      <th>highway MPG</th>\n",
       "      <th>city mpg</th>\n",
       "      <th>Popularity</th>\n",
       "      <th>MSRP</th>\n",
       "    </tr>\n",
       "  </thead>\n",
       "  <tbody>\n",
       "    <tr>\n",
       "      <th>0</th>\n",
       "      <td>BMW</td>\n",
       "      <td>1 Series M</td>\n",
       "      <td>2011</td>\n",
       "      <td>premium unleaded (required)</td>\n",
       "      <td>335.0</td>\n",
       "      <td>6.0</td>\n",
       "      <td>MANUAL</td>\n",
       "      <td>rear wheel drive</td>\n",
       "      <td>2.0</td>\n",
       "      <td>Factory Tuner,Luxury,High-Performance</td>\n",
       "      <td>Compact</td>\n",
       "      <td>Coupe</td>\n",
       "      <td>26</td>\n",
       "      <td>19</td>\n",
       "      <td>3916</td>\n",
       "      <td>46135</td>\n",
       "    </tr>\n",
       "    <tr>\n",
       "      <th>1</th>\n",
       "      <td>BMW</td>\n",
       "      <td>1 Series</td>\n",
       "      <td>2011</td>\n",
       "      <td>premium unleaded (required)</td>\n",
       "      <td>300.0</td>\n",
       "      <td>6.0</td>\n",
       "      <td>MANUAL</td>\n",
       "      <td>rear wheel drive</td>\n",
       "      <td>2.0</td>\n",
       "      <td>Luxury,Performance</td>\n",
       "      <td>Compact</td>\n",
       "      <td>Convertible</td>\n",
       "      <td>28</td>\n",
       "      <td>19</td>\n",
       "      <td>3916</td>\n",
       "      <td>40650</td>\n",
       "    </tr>\n",
       "    <tr>\n",
       "      <th>2</th>\n",
       "      <td>BMW</td>\n",
       "      <td>1 Series</td>\n",
       "      <td>2011</td>\n",
       "      <td>premium unleaded (required)</td>\n",
       "      <td>300.0</td>\n",
       "      <td>6.0</td>\n",
       "      <td>MANUAL</td>\n",
       "      <td>rear wheel drive</td>\n",
       "      <td>2.0</td>\n",
       "      <td>Luxury,High-Performance</td>\n",
       "      <td>Compact</td>\n",
       "      <td>Coupe</td>\n",
       "      <td>28</td>\n",
       "      <td>20</td>\n",
       "      <td>3916</td>\n",
       "      <td>36350</td>\n",
       "    </tr>\n",
       "    <tr>\n",
       "      <th>3</th>\n",
       "      <td>BMW</td>\n",
       "      <td>1 Series</td>\n",
       "      <td>2011</td>\n",
       "      <td>premium unleaded (required)</td>\n",
       "      <td>230.0</td>\n",
       "      <td>6.0</td>\n",
       "      <td>MANUAL</td>\n",
       "      <td>rear wheel drive</td>\n",
       "      <td>2.0</td>\n",
       "      <td>Luxury,Performance</td>\n",
       "      <td>Compact</td>\n",
       "      <td>Coupe</td>\n",
       "      <td>28</td>\n",
       "      <td>18</td>\n",
       "      <td>3916</td>\n",
       "      <td>29450</td>\n",
       "    </tr>\n",
       "    <tr>\n",
       "      <th>4</th>\n",
       "      <td>BMW</td>\n",
       "      <td>1 Series</td>\n",
       "      <td>2011</td>\n",
       "      <td>premium unleaded (required)</td>\n",
       "      <td>230.0</td>\n",
       "      <td>6.0</td>\n",
       "      <td>MANUAL</td>\n",
       "      <td>rear wheel drive</td>\n",
       "      <td>2.0</td>\n",
       "      <td>Luxury</td>\n",
       "      <td>Compact</td>\n",
       "      <td>Convertible</td>\n",
       "      <td>28</td>\n",
       "      <td>18</td>\n",
       "      <td>3916</td>\n",
       "      <td>34500</td>\n",
       "    </tr>\n",
       "  </tbody>\n",
       "</table>\n",
       "</div>"
      ],
      "text/plain": [
       "  Make       Model  Year             Engine Fuel Type  Engine HP  \\\n",
       "0  BMW  1 Series M  2011  premium unleaded (required)      335.0   \n",
       "1  BMW    1 Series  2011  premium unleaded (required)      300.0   \n",
       "2  BMW    1 Series  2011  premium unleaded (required)      300.0   \n",
       "3  BMW    1 Series  2011  premium unleaded (required)      230.0   \n",
       "4  BMW    1 Series  2011  premium unleaded (required)      230.0   \n",
       "\n",
       "   Engine Cylinders Transmission Type     Driven_Wheels  Number of Doors  \\\n",
       "0               6.0            MANUAL  rear wheel drive              2.0   \n",
       "1               6.0            MANUAL  rear wheel drive              2.0   \n",
       "2               6.0            MANUAL  rear wheel drive              2.0   \n",
       "3               6.0            MANUAL  rear wheel drive              2.0   \n",
       "4               6.0            MANUAL  rear wheel drive              2.0   \n",
       "\n",
       "                         Market Category Vehicle Size Vehicle Style  \\\n",
       "0  Factory Tuner,Luxury,High-Performance      Compact         Coupe   \n",
       "1                     Luxury,Performance      Compact   Convertible   \n",
       "2                Luxury,High-Performance      Compact         Coupe   \n",
       "3                     Luxury,Performance      Compact         Coupe   \n",
       "4                                 Luxury      Compact   Convertible   \n",
       "\n",
       "   highway MPG  city mpg  Popularity   MSRP  \n",
       "0           26        19        3916  46135  \n",
       "1           28        19        3916  40650  \n",
       "2           28        20        3916  36350  \n",
       "3           28        18        3916  29450  \n",
       "4           28        18        3916  34500  "
      ]
     },
     "execution_count": 21,
     "metadata": {},
     "output_type": "execute_result"
    }
   ],
   "source": [
    "price = pd.read_csv('car-price.csv', sep=',')\n",
    "price.head()"
   ]
  },
  {
   "cell_type": "markdown",
   "id": "78d48acd",
   "metadata": {},
   "source": [
    "# Data preparation"
   ]
  },
  {
   "cell_type": "code",
   "execution_count": 410,
   "id": "27230eca",
   "metadata": {
    "ExecuteTime": {
     "end_time": "2023-10-01T18:11:33.850706Z",
     "start_time": "2023-10-01T18:11:33.834720Z"
    }
   },
   "outputs": [],
   "source": [
    "price.columns = price.columns.str.replace(' ', '_').str.lower()\n",
    "price = price.rename(columns={'msrp':'price'})"
   ]
  },
  {
   "cell_type": "code",
   "execution_count": 411,
   "id": "535b7f95",
   "metadata": {
    "ExecuteTime": {
     "end_time": "2023-10-01T18:11:34.085426Z",
     "start_time": "2023-10-01T18:11:34.073861Z"
    }
   },
   "outputs": [
    {
     "data": {
      "text/plain": [
       "Index(['make', 'model', 'year', 'engine_fuel_type', 'engine_hp',\n",
       "       'engine_cylinders', 'transmission_type', 'driven_wheels',\n",
       "       'number_of_doors', 'market_category', 'vehicle_size', 'vehicle_style',\n",
       "       'highway_mpg', 'city_mpg', 'popularity', 'price'],\n",
       "      dtype='object')"
      ]
     },
     "execution_count": 411,
     "metadata": {},
     "output_type": "execute_result"
    }
   ],
   "source": [
    "price.columns"
   ]
  },
  {
   "cell_type": "code",
   "execution_count": 412,
   "id": "84ac702b",
   "metadata": {
    "ExecuteTime": {
     "end_time": "2023-10-01T18:11:34.252060Z",
     "start_time": "2023-10-01T18:11:34.220967Z"
    }
   },
   "outputs": [
    {
     "data": {
      "text/html": [
       "<div>\n",
       "<style scoped>\n",
       "    .dataframe tbody tr th:only-of-type {\n",
       "        vertical-align: middle;\n",
       "    }\n",
       "\n",
       "    .dataframe tbody tr th {\n",
       "        vertical-align: top;\n",
       "    }\n",
       "\n",
       "    .dataframe thead th {\n",
       "        text-align: right;\n",
       "    }\n",
       "</style>\n",
       "<table border=\"1\" class=\"dataframe\">\n",
       "  <thead>\n",
       "    <tr style=\"text-align: right;\">\n",
       "      <th></th>\n",
       "      <th>make</th>\n",
       "      <th>model</th>\n",
       "      <th>year</th>\n",
       "      <th>engine_hp</th>\n",
       "      <th>engine_cylinders</th>\n",
       "      <th>transmission_type</th>\n",
       "      <th>vehicle_style</th>\n",
       "      <th>highway_mpg</th>\n",
       "      <th>city_mpg</th>\n",
       "      <th>price</th>\n",
       "    </tr>\n",
       "  </thead>\n",
       "  <tbody>\n",
       "    <tr>\n",
       "      <th>0</th>\n",
       "      <td>BMW</td>\n",
       "      <td>1 Series M</td>\n",
       "      <td>2011</td>\n",
       "      <td>335.0</td>\n",
       "      <td>6.0</td>\n",
       "      <td>MANUAL</td>\n",
       "      <td>Coupe</td>\n",
       "      <td>26</td>\n",
       "      <td>19</td>\n",
       "      <td>46135</td>\n",
       "    </tr>\n",
       "    <tr>\n",
       "      <th>1</th>\n",
       "      <td>BMW</td>\n",
       "      <td>1 Series</td>\n",
       "      <td>2011</td>\n",
       "      <td>300.0</td>\n",
       "      <td>6.0</td>\n",
       "      <td>MANUAL</td>\n",
       "      <td>Convertible</td>\n",
       "      <td>28</td>\n",
       "      <td>19</td>\n",
       "      <td>40650</td>\n",
       "    </tr>\n",
       "    <tr>\n",
       "      <th>2</th>\n",
       "      <td>BMW</td>\n",
       "      <td>1 Series</td>\n",
       "      <td>2011</td>\n",
       "      <td>300.0</td>\n",
       "      <td>6.0</td>\n",
       "      <td>MANUAL</td>\n",
       "      <td>Coupe</td>\n",
       "      <td>28</td>\n",
       "      <td>20</td>\n",
       "      <td>36350</td>\n",
       "    </tr>\n",
       "    <tr>\n",
       "      <th>3</th>\n",
       "      <td>BMW</td>\n",
       "      <td>1 Series</td>\n",
       "      <td>2011</td>\n",
       "      <td>230.0</td>\n",
       "      <td>6.0</td>\n",
       "      <td>MANUAL</td>\n",
       "      <td>Coupe</td>\n",
       "      <td>28</td>\n",
       "      <td>18</td>\n",
       "      <td>29450</td>\n",
       "    </tr>\n",
       "    <tr>\n",
       "      <th>4</th>\n",
       "      <td>BMW</td>\n",
       "      <td>1 Series</td>\n",
       "      <td>2011</td>\n",
       "      <td>230.0</td>\n",
       "      <td>6.0</td>\n",
       "      <td>MANUAL</td>\n",
       "      <td>Convertible</td>\n",
       "      <td>28</td>\n",
       "      <td>18</td>\n",
       "      <td>34500</td>\n",
       "    </tr>\n",
       "  </tbody>\n",
       "</table>\n",
       "</div>"
      ],
      "text/plain": [
       "  make       model  year  engine_hp  engine_cylinders transmission_type  \\\n",
       "0  BMW  1 Series M  2011      335.0               6.0            MANUAL   \n",
       "1  BMW    1 Series  2011      300.0               6.0            MANUAL   \n",
       "2  BMW    1 Series  2011      300.0               6.0            MANUAL   \n",
       "3  BMW    1 Series  2011      230.0               6.0            MANUAL   \n",
       "4  BMW    1 Series  2011      230.0               6.0            MANUAL   \n",
       "\n",
       "  vehicle_style  highway_mpg  city_mpg  price  \n",
       "0         Coupe           26        19  46135  \n",
       "1   Convertible           28        19  40650  \n",
       "2         Coupe           28        20  36350  \n",
       "3         Coupe           28        18  29450  \n",
       "4   Convertible           28        18  34500  "
      ]
     },
     "execution_count": 412,
     "metadata": {},
     "output_type": "execute_result"
    }
   ],
   "source": [
    "data = price[['make','model','year','engine_hp','engine_cylinders','transmission_type','vehicle_style','highway_mpg','city_mpg','price']]\n",
    "data.head()"
   ]
  },
  {
   "cell_type": "code",
   "execution_count": 413,
   "id": "54dece22",
   "metadata": {
    "ExecuteTime": {
     "end_time": "2023-10-01T18:11:34.451267Z",
     "start_time": "2023-10-01T18:11:34.441074Z"
    }
   },
   "outputs": [],
   "source": [
    "null_idx = data[(data['engine_cylinders'].isnull()) | (data['engine_hp'].isnull())].index"
   ]
  },
  {
   "cell_type": "code",
   "execution_count": 414,
   "id": "7f07f068",
   "metadata": {
    "ExecuteTime": {
     "end_time": "2023-10-01T18:11:34.668098Z",
     "start_time": "2023-10-01T18:11:34.643661Z"
    }
   },
   "outputs": [
    {
     "data": {
      "text/html": [
       "<div>\n",
       "<style scoped>\n",
       "    .dataframe tbody tr th:only-of-type {\n",
       "        vertical-align: middle;\n",
       "    }\n",
       "\n",
       "    .dataframe tbody tr th {\n",
       "        vertical-align: top;\n",
       "    }\n",
       "\n",
       "    .dataframe thead th {\n",
       "        text-align: right;\n",
       "    }\n",
       "</style>\n",
       "<table border=\"1\" class=\"dataframe\">\n",
       "  <thead>\n",
       "    <tr style=\"text-align: right;\">\n",
       "      <th></th>\n",
       "      <th>make</th>\n",
       "      <th>model</th>\n",
       "      <th>year</th>\n",
       "      <th>engine_hp</th>\n",
       "      <th>engine_cylinders</th>\n",
       "      <th>transmission_type</th>\n",
       "      <th>vehicle_style</th>\n",
       "      <th>highway_mpg</th>\n",
       "      <th>city_mpg</th>\n",
       "      <th>price</th>\n",
       "    </tr>\n",
       "  </thead>\n",
       "  <tbody>\n",
       "    <tr>\n",
       "      <th>539</th>\n",
       "      <td>FIAT</td>\n",
       "      <td>500e</td>\n",
       "      <td>2015</td>\n",
       "      <td>NaN</td>\n",
       "      <td>0.0</td>\n",
       "      <td>DIRECT_DRIVE</td>\n",
       "      <td>2dr Hatchback</td>\n",
       "      <td>108</td>\n",
       "      <td>122</td>\n",
       "      <td>31800</td>\n",
       "    </tr>\n",
       "    <tr>\n",
       "      <th>540</th>\n",
       "      <td>FIAT</td>\n",
       "      <td>500e</td>\n",
       "      <td>2016</td>\n",
       "      <td>NaN</td>\n",
       "      <td>0.0</td>\n",
       "      <td>DIRECT_DRIVE</td>\n",
       "      <td>2dr Hatchback</td>\n",
       "      <td>103</td>\n",
       "      <td>121</td>\n",
       "      <td>31800</td>\n",
       "    </tr>\n",
       "    <tr>\n",
       "      <th>541</th>\n",
       "      <td>FIAT</td>\n",
       "      <td>500e</td>\n",
       "      <td>2017</td>\n",
       "      <td>NaN</td>\n",
       "      <td>0.0</td>\n",
       "      <td>DIRECT_DRIVE</td>\n",
       "      <td>2dr Hatchback</td>\n",
       "      <td>103</td>\n",
       "      <td>121</td>\n",
       "      <td>31800</td>\n",
       "    </tr>\n",
       "    <tr>\n",
       "      <th>1983</th>\n",
       "      <td>Chevrolet</td>\n",
       "      <td>Bolt EV</td>\n",
       "      <td>2017</td>\n",
       "      <td>200.0</td>\n",
       "      <td>NaN</td>\n",
       "      <td>DIRECT_DRIVE</td>\n",
       "      <td>4dr Hatchback</td>\n",
       "      <td>110</td>\n",
       "      <td>128</td>\n",
       "      <td>40905</td>\n",
       "    </tr>\n",
       "    <tr>\n",
       "      <th>1984</th>\n",
       "      <td>Chevrolet</td>\n",
       "      <td>Bolt EV</td>\n",
       "      <td>2017</td>\n",
       "      <td>200.0</td>\n",
       "      <td>NaN</td>\n",
       "      <td>DIRECT_DRIVE</td>\n",
       "      <td>4dr Hatchback</td>\n",
       "      <td>110</td>\n",
       "      <td>128</td>\n",
       "      <td>36620</td>\n",
       "    </tr>\n",
       "  </tbody>\n",
       "</table>\n",
       "</div>"
      ],
      "text/plain": [
       "           make    model  year  engine_hp  engine_cylinders transmission_type  \\\n",
       "539        FIAT     500e  2015        NaN               0.0      DIRECT_DRIVE   \n",
       "540        FIAT     500e  2016        NaN               0.0      DIRECT_DRIVE   \n",
       "541        FIAT     500e  2017        NaN               0.0      DIRECT_DRIVE   \n",
       "1983  Chevrolet  Bolt EV  2017      200.0               NaN      DIRECT_DRIVE   \n",
       "1984  Chevrolet  Bolt EV  2017      200.0               NaN      DIRECT_DRIVE   \n",
       "\n",
       "      vehicle_style  highway_mpg  city_mpg  price  \n",
       "539   2dr Hatchback          108       122  31800  \n",
       "540   2dr Hatchback          103       121  31800  \n",
       "541   2dr Hatchback          103       121  31800  \n",
       "1983  4dr Hatchback          110       128  40905  \n",
       "1984  4dr Hatchback          110       128  36620  "
      ]
     },
     "execution_count": 414,
     "metadata": {},
     "output_type": "execute_result"
    }
   ],
   "source": [
    "data.iloc[null_idx].head()"
   ]
  },
  {
   "cell_type": "code",
   "execution_count": 415,
   "id": "3bae3d39",
   "metadata": {
    "ExecuteTime": {
     "end_time": "2023-10-01T18:11:34.850973Z",
     "start_time": "2023-10-01T18:11:34.802566Z"
    }
   },
   "outputs": [
    {
     "name": "stdout",
     "output_type": "stream",
     "text": [
      "make                 0\n",
      "model                0\n",
      "year                 0\n",
      "engine_hp            0\n",
      "engine_cylinders     0\n",
      "transmission_type    0\n",
      "vehicle_style        0\n",
      "highway_mpg          0\n",
      "city_mpg             0\n",
      "price                0\n",
      "dtype: int64\n"
     ]
    },
    {
     "data": {
      "text/html": [
       "<div>\n",
       "<style scoped>\n",
       "    .dataframe tbody tr th:only-of-type {\n",
       "        vertical-align: middle;\n",
       "    }\n",
       "\n",
       "    .dataframe tbody tr th {\n",
       "        vertical-align: top;\n",
       "    }\n",
       "\n",
       "    .dataframe thead th {\n",
       "        text-align: right;\n",
       "    }\n",
       "</style>\n",
       "<table border=\"1\" class=\"dataframe\">\n",
       "  <thead>\n",
       "    <tr style=\"text-align: right;\">\n",
       "      <th></th>\n",
       "      <th>make</th>\n",
       "      <th>model</th>\n",
       "      <th>year</th>\n",
       "      <th>engine_hp</th>\n",
       "      <th>engine_cylinders</th>\n",
       "      <th>transmission_type</th>\n",
       "      <th>vehicle_style</th>\n",
       "      <th>highway_mpg</th>\n",
       "      <th>city_mpg</th>\n",
       "      <th>price</th>\n",
       "    </tr>\n",
       "  </thead>\n",
       "  <tbody>\n",
       "    <tr>\n",
       "      <th>539</th>\n",
       "      <td>FIAT</td>\n",
       "      <td>500e</td>\n",
       "      <td>2015</td>\n",
       "      <td>0.0</td>\n",
       "      <td>0.0</td>\n",
       "      <td>DIRECT_DRIVE</td>\n",
       "      <td>2dr Hatchback</td>\n",
       "      <td>108</td>\n",
       "      <td>122</td>\n",
       "      <td>31800</td>\n",
       "    </tr>\n",
       "    <tr>\n",
       "      <th>540</th>\n",
       "      <td>FIAT</td>\n",
       "      <td>500e</td>\n",
       "      <td>2016</td>\n",
       "      <td>0.0</td>\n",
       "      <td>0.0</td>\n",
       "      <td>DIRECT_DRIVE</td>\n",
       "      <td>2dr Hatchback</td>\n",
       "      <td>103</td>\n",
       "      <td>121</td>\n",
       "      <td>31800</td>\n",
       "    </tr>\n",
       "    <tr>\n",
       "      <th>541</th>\n",
       "      <td>FIAT</td>\n",
       "      <td>500e</td>\n",
       "      <td>2017</td>\n",
       "      <td>0.0</td>\n",
       "      <td>0.0</td>\n",
       "      <td>DIRECT_DRIVE</td>\n",
       "      <td>2dr Hatchback</td>\n",
       "      <td>103</td>\n",
       "      <td>121</td>\n",
       "      <td>31800</td>\n",
       "    </tr>\n",
       "    <tr>\n",
       "      <th>1983</th>\n",
       "      <td>Chevrolet</td>\n",
       "      <td>Bolt EV</td>\n",
       "      <td>2017</td>\n",
       "      <td>200.0</td>\n",
       "      <td>0.0</td>\n",
       "      <td>DIRECT_DRIVE</td>\n",
       "      <td>4dr Hatchback</td>\n",
       "      <td>110</td>\n",
       "      <td>128</td>\n",
       "      <td>40905</td>\n",
       "    </tr>\n",
       "    <tr>\n",
       "      <th>1984</th>\n",
       "      <td>Chevrolet</td>\n",
       "      <td>Bolt EV</td>\n",
       "      <td>2017</td>\n",
       "      <td>200.0</td>\n",
       "      <td>0.0</td>\n",
       "      <td>DIRECT_DRIVE</td>\n",
       "      <td>4dr Hatchback</td>\n",
       "      <td>110</td>\n",
       "      <td>128</td>\n",
       "      <td>36620</td>\n",
       "    </tr>\n",
       "    <tr>\n",
       "      <th>...</th>\n",
       "      <td>...</td>\n",
       "      <td>...</td>\n",
       "      <td>...</td>\n",
       "      <td>...</td>\n",
       "      <td>...</td>\n",
       "      <td>...</td>\n",
       "      <td>...</td>\n",
       "      <td>...</td>\n",
       "      <td>...</td>\n",
       "      <td>...</td>\n",
       "    </tr>\n",
       "    <tr>\n",
       "      <th>9850</th>\n",
       "      <td>Kia</td>\n",
       "      <td>Soul EV</td>\n",
       "      <td>2015</td>\n",
       "      <td>0.0</td>\n",
       "      <td>0.0</td>\n",
       "      <td>DIRECT_DRIVE</td>\n",
       "      <td>Wagon</td>\n",
       "      <td>92</td>\n",
       "      <td>120</td>\n",
       "      <td>35700</td>\n",
       "    </tr>\n",
       "    <tr>\n",
       "      <th>9851</th>\n",
       "      <td>Kia</td>\n",
       "      <td>Soul EV</td>\n",
       "      <td>2015</td>\n",
       "      <td>0.0</td>\n",
       "      <td>0.0</td>\n",
       "      <td>DIRECT_DRIVE</td>\n",
       "      <td>Wagon</td>\n",
       "      <td>92</td>\n",
       "      <td>120</td>\n",
       "      <td>33700</td>\n",
       "    </tr>\n",
       "    <tr>\n",
       "      <th>9852</th>\n",
       "      <td>Kia</td>\n",
       "      <td>Soul EV</td>\n",
       "      <td>2016</td>\n",
       "      <td>0.0</td>\n",
       "      <td>0.0</td>\n",
       "      <td>DIRECT_DRIVE</td>\n",
       "      <td>Wagon</td>\n",
       "      <td>92</td>\n",
       "      <td>120</td>\n",
       "      <td>33950</td>\n",
       "    </tr>\n",
       "    <tr>\n",
       "      <th>9853</th>\n",
       "      <td>Kia</td>\n",
       "      <td>Soul EV</td>\n",
       "      <td>2016</td>\n",
       "      <td>0.0</td>\n",
       "      <td>0.0</td>\n",
       "      <td>DIRECT_DRIVE</td>\n",
       "      <td>Wagon</td>\n",
       "      <td>92</td>\n",
       "      <td>120</td>\n",
       "      <td>31950</td>\n",
       "    </tr>\n",
       "    <tr>\n",
       "      <th>9854</th>\n",
       "      <td>Kia</td>\n",
       "      <td>Soul EV</td>\n",
       "      <td>2016</td>\n",
       "      <td>0.0</td>\n",
       "      <td>0.0</td>\n",
       "      <td>DIRECT_DRIVE</td>\n",
       "      <td>Wagon</td>\n",
       "      <td>92</td>\n",
       "      <td>120</td>\n",
       "      <td>35950</td>\n",
       "    </tr>\n",
       "  </tbody>\n",
       "</table>\n",
       "<p>98 rows × 10 columns</p>\n",
       "</div>"
      ],
      "text/plain": [
       "           make    model  year  engine_hp  engine_cylinders transmission_type  \\\n",
       "539        FIAT     500e  2015        0.0               0.0      DIRECT_DRIVE   \n",
       "540        FIAT     500e  2016        0.0               0.0      DIRECT_DRIVE   \n",
       "541        FIAT     500e  2017        0.0               0.0      DIRECT_DRIVE   \n",
       "1983  Chevrolet  Bolt EV  2017      200.0               0.0      DIRECT_DRIVE   \n",
       "1984  Chevrolet  Bolt EV  2017      200.0               0.0      DIRECT_DRIVE   \n",
       "...         ...      ...   ...        ...               ...               ...   \n",
       "9850        Kia  Soul EV  2015        0.0               0.0      DIRECT_DRIVE   \n",
       "9851        Kia  Soul EV  2015        0.0               0.0      DIRECT_DRIVE   \n",
       "9852        Kia  Soul EV  2016        0.0               0.0      DIRECT_DRIVE   \n",
       "9853        Kia  Soul EV  2016        0.0               0.0      DIRECT_DRIVE   \n",
       "9854        Kia  Soul EV  2016        0.0               0.0      DIRECT_DRIVE   \n",
       "\n",
       "      vehicle_style  highway_mpg  city_mpg  price  \n",
       "539   2dr Hatchback          108       122  31800  \n",
       "540   2dr Hatchback          103       121  31800  \n",
       "541   2dr Hatchback          103       121  31800  \n",
       "1983  4dr Hatchback          110       128  40905  \n",
       "1984  4dr Hatchback          110       128  36620  \n",
       "...             ...          ...       ...    ...  \n",
       "9850          Wagon           92       120  35700  \n",
       "9851          Wagon           92       120  33700  \n",
       "9852          Wagon           92       120  33950  \n",
       "9853          Wagon           92       120  31950  \n",
       "9854          Wagon           92       120  35950  \n",
       "\n",
       "[98 rows x 10 columns]"
      ]
     },
     "execution_count": 415,
     "metadata": {},
     "output_type": "execute_result"
    }
   ],
   "source": [
    "data.fillna(0, inplace=True)\n",
    "print(data.isna().sum())\n",
    "data.iloc[null_idx]"
   ]
  },
  {
   "cell_type": "markdown",
   "id": "f926c69c",
   "metadata": {},
   "source": [
    "# Question 1"
   ]
  },
  {
   "cell_type": "code",
   "execution_count": 416,
   "id": "d020c836",
   "metadata": {
    "ExecuteTime": {
     "end_time": "2023-10-01T18:11:35.180426Z",
     "start_time": "2023-10-01T18:11:35.170977Z"
    }
   },
   "outputs": [
    {
     "data": {
      "text/plain": [
       "AUTOMATIC           8266\n",
       "MANUAL              2935\n",
       "AUTOMATED_MANUAL     626\n",
       "DIRECT_DRIVE          68\n",
       "UNKNOWN               19\n",
       "Name: transmission_type, dtype: int64"
      ]
     },
     "execution_count": 416,
     "metadata": {},
     "output_type": "execute_result"
    }
   ],
   "source": [
    "# method 1\n",
    "data.transmission_type.value_counts()\n",
    "\n",
    "# method 2\n",
    "# data.transmission_type.mode()"
   ]
  },
  {
   "cell_type": "markdown",
   "id": "e59244a9",
   "metadata": {
    "ExecuteTime": {
     "end_time": "2023-10-01T15:12:30.131511Z",
     "start_time": "2023-10-01T15:12:30.126177Z"
    }
   },
   "source": [
    "#### the most frequent observation (mode) for the column transmission_type is AUTOMATIC           "
   ]
  },
  {
   "cell_type": "markdown",
   "id": "2e15181b",
   "metadata": {},
   "source": [
    "# Question 2\n"
   ]
  },
  {
   "cell_type": "code",
   "execution_count": 417,
   "id": "2b5729cb",
   "metadata": {
    "ExecuteTime": {
     "end_time": "2023-10-01T18:11:35.680858Z",
     "start_time": "2023-10-01T18:11:35.673296Z"
    }
   },
   "outputs": [],
   "source": [
    "numerical = list(data.select_dtypes('number').columns)"
   ]
  },
  {
   "cell_type": "code",
   "execution_count": 418,
   "id": "137da8b5",
   "metadata": {
    "ExecuteTime": {
     "end_time": "2023-10-01T18:11:35.852021Z",
     "start_time": "2023-10-01T18:11:35.842021Z"
    }
   },
   "outputs": [],
   "source": [
    "corr_matrix = data[numerical].corr()\n",
    "# corr_matrix"
   ]
  },
  {
   "cell_type": "code",
   "execution_count": 419,
   "id": "5b1f9227",
   "metadata": {
    "ExecuteTime": {
     "end_time": "2023-10-01T18:11:36.580398Z",
     "start_time": "2023-10-01T18:11:36.024066Z"
    }
   },
   "outputs": [
    {
     "data": {
      "image/png": "[encoded data removed]",
      "text/plain": [
       "<Figure size 720x576 with 2 Axes>"
      ]
     },
     "metadata": {},
     "output_type": "display_data"
    }
   ],
   "source": [
    "plt.figure(figsize=(10,8))\n",
    "sns.heatmap(corr_matrix, annot=True)\n",
    "plt.show()"
   ]
  },
  {
   "cell_type": "code",
   "execution_count": 420,
   "id": "9b2ff5c3",
   "metadata": {
    "ExecuteTime": {
     "end_time": "2023-10-01T18:11:36.600225Z",
     "start_time": "2023-10-01T18:11:36.582391Z"
    }
   },
   "outputs": [
    {
     "data": {
      "text/plain": [
       "city_mpg          highway_mpg         0.886829\n",
       "highway_mpg       city_mpg            0.886829\n",
       "engine_hp         engine_cylinders    0.774851\n",
       "engine_cylinders  engine_hp           0.774851\n",
       "price             engine_hp           0.650095\n",
       "engine_hp         price               0.650095\n",
       "engine_cylinders  price               0.526274\n",
       "price             engine_cylinders    0.526274\n",
       "engine_hp         year                0.338714\n",
       "year              engine_hp           0.338714\n",
       "                  highway_mpg         0.258240\n",
       "highway_mpg       year                0.258240\n",
       "year              price               0.227590\n",
       "price             year                0.227590\n",
       "year              city_mpg            0.198171\n",
       "city_mpg          year                0.198171\n",
       "engine_cylinders  year               -0.040708\n",
       "year              engine_cylinders   -0.040708\n",
       "price             city_mpg           -0.157676\n",
       "city_mpg          price              -0.157676\n",
       "highway_mpg       price              -0.160043\n",
       "price             highway_mpg        -0.160043\n",
       "engine_hp         highway_mpg        -0.415707\n",
       "highway_mpg       engine_hp          -0.415707\n",
       "city_mpg          engine_hp          -0.424918\n",
       "engine_hp         city_mpg           -0.424918\n",
       "engine_cylinders  city_mpg           -0.587306\n",
       "city_mpg          engine_cylinders   -0.587306\n",
       "engine_cylinders  highway_mpg        -0.614541\n",
       "highway_mpg       engine_cylinders   -0.614541\n",
       "dtype: float64"
      ]
     },
     "execution_count": 420,
     "metadata": {},
     "output_type": "execute_result"
    }
   ],
   "source": [
    "# Stack the correlation matrix\n",
    "stacked_corr = corr_matrix.stack()\n",
    "\n",
    "# Select the highest correlation pairs\n",
    "highest_corr_pairs = stacked_corr.nlargest(len(numerical)**2)\n",
    "\n",
    "# Print the highest correlation pairs\n",
    "highest_corr_pairs[highest_corr_pairs<1]"
   ]
  },
  {
   "cell_type": "markdown",
   "id": "b98345cf",
   "metadata": {},
   "source": [
    "#### features that have the biggest correlation in this dataset: city_mpg and highway_mpg "
   ]
  },
  {
   "cell_type": "markdown",
   "id": "09729ec7",
   "metadata": {},
   "source": [
    "### Make price binary"
   ]
  },
  {
   "cell_type": "code",
   "execution_count": 421,
   "id": "b2dd6ae0",
   "metadata": {
    "ExecuteTime": {
     "end_time": "2023-10-01T18:11:36.738571Z",
     "start_time": "2023-10-01T18:11:36.731492Z"
    }
   },
   "outputs": [],
   "source": [
    "mean_price = data.price.mean()"
   ]
  },
  {
   "cell_type": "code",
   "execution_count": 422,
   "id": "90873683",
   "metadata": {
    "ExecuteTime": {
     "end_time": "2023-10-01T18:11:36.930329Z",
     "start_time": "2023-10-01T18:11:36.905829Z"
    }
   },
   "outputs": [],
   "source": [
    "data['above_average'] = [1 if x > mean_price else 0 for x in data.price]"
   ]
  },
  {
   "cell_type": "code",
   "execution_count": 423,
   "id": "9ea2652a",
   "metadata": {
    "ExecuteTime": {
     "end_time": "2023-10-01T18:11:37.641426Z",
     "start_time": "2023-10-01T18:11:37.625466Z"
    }
   },
   "outputs": [
    {
     "data": {
      "text/html": [
       "<div>\n",
       "<style scoped>\n",
       "    .dataframe tbody tr th:only-of-type {\n",
       "        vertical-align: middle;\n",
       "    }\n",
       "\n",
       "    .dataframe tbody tr th {\n",
       "        vertical-align: top;\n",
       "    }\n",
       "\n",
       "    .dataframe thead th {\n",
       "        text-align: right;\n",
       "    }\n",
       "</style>\n",
       "<table border=\"1\" class=\"dataframe\">\n",
       "  <thead>\n",
       "    <tr style=\"text-align: right;\">\n",
       "      <th></th>\n",
       "      <th>make</th>\n",
       "      <th>model</th>\n",
       "      <th>year</th>\n",
       "      <th>engine_hp</th>\n",
       "      <th>engine_cylinders</th>\n",
       "      <th>transmission_type</th>\n",
       "      <th>vehicle_style</th>\n",
       "      <th>highway_mpg</th>\n",
       "      <th>city_mpg</th>\n",
       "      <th>price</th>\n",
       "      <th>above_average</th>\n",
       "    </tr>\n",
       "  </thead>\n",
       "  <tbody>\n",
       "    <tr>\n",
       "      <th>0</th>\n",
       "      <td>BMW</td>\n",
       "      <td>1 Series M</td>\n",
       "      <td>2011</td>\n",
       "      <td>335.0</td>\n",
       "      <td>6.0</td>\n",
       "      <td>MANUAL</td>\n",
       "      <td>Coupe</td>\n",
       "      <td>26</td>\n",
       "      <td>19</td>\n",
       "      <td>46135</td>\n",
       "      <td>1</td>\n",
       "    </tr>\n",
       "    <tr>\n",
       "      <th>1</th>\n",
       "      <td>BMW</td>\n",
       "      <td>1 Series</td>\n",
       "      <td>2011</td>\n",
       "      <td>300.0</td>\n",
       "      <td>6.0</td>\n",
       "      <td>MANUAL</td>\n",
       "      <td>Convertible</td>\n",
       "      <td>28</td>\n",
       "      <td>19</td>\n",
       "      <td>40650</td>\n",
       "      <td>1</td>\n",
       "    </tr>\n",
       "    <tr>\n",
       "      <th>2</th>\n",
       "      <td>BMW</td>\n",
       "      <td>1 Series</td>\n",
       "      <td>2011</td>\n",
       "      <td>300.0</td>\n",
       "      <td>6.0</td>\n",
       "      <td>MANUAL</td>\n",
       "      <td>Coupe</td>\n",
       "      <td>28</td>\n",
       "      <td>20</td>\n",
       "      <td>36350</td>\n",
       "      <td>0</td>\n",
       "    </tr>\n",
       "    <tr>\n",
       "      <th>3</th>\n",
       "      <td>BMW</td>\n",
       "      <td>1 Series</td>\n",
       "      <td>2011</td>\n",
       "      <td>230.0</td>\n",
       "      <td>6.0</td>\n",
       "      <td>MANUAL</td>\n",
       "      <td>Coupe</td>\n",
       "      <td>28</td>\n",
       "      <td>18</td>\n",
       "      <td>29450</td>\n",
       "      <td>0</td>\n",
       "    </tr>\n",
       "    <tr>\n",
       "      <th>4</th>\n",
       "      <td>BMW</td>\n",
       "      <td>1 Series</td>\n",
       "      <td>2011</td>\n",
       "      <td>230.0</td>\n",
       "      <td>6.0</td>\n",
       "      <td>MANUAL</td>\n",
       "      <td>Convertible</td>\n",
       "      <td>28</td>\n",
       "      <td>18</td>\n",
       "      <td>34500</td>\n",
       "      <td>0</td>\n",
       "    </tr>\n",
       "  </tbody>\n",
       "</table>\n",
       "</div>"
      ],
      "text/plain": [
       "  make       model  year  engine_hp  engine_cylinders transmission_type  \\\n",
       "0  BMW  1 Series M  2011      335.0               6.0            MANUAL   \n",
       "1  BMW    1 Series  2011      300.0               6.0            MANUAL   \n",
       "2  BMW    1 Series  2011      300.0               6.0            MANUAL   \n",
       "3  BMW    1 Series  2011      230.0               6.0            MANUAL   \n",
       "4  BMW    1 Series  2011      230.0               6.0            MANUAL   \n",
       "\n",
       "  vehicle_style  highway_mpg  city_mpg  price  above_average  \n",
       "0         Coupe           26        19  46135              1  \n",
       "1   Convertible           28        19  40650              1  \n",
       "2         Coupe           28        20  36350              0  \n",
       "3         Coupe           28        18  29450              0  \n",
       "4   Convertible           28        18  34500              0  "
      ]
     },
     "execution_count": 423,
     "metadata": {},
     "output_type": "execute_result"
    }
   ],
   "source": [
    "data.head()"
   ]
  },
  {
   "cell_type": "markdown",
   "id": "69af1888",
   "metadata": {},
   "source": [
    "### Split the data\n",
    "Split your data in train/val/test sets with 60%/20%/20% distribution.\\\n",
    "Use Scikit-Learn for that (the train_test_split function) and set the seed to 42.\\\n",
    "Make sure that the target value (above_average) is not in your dataframe."
   ]
  },
  {
   "cell_type": "code",
   "execution_count": 424,
   "id": "d1a74a10",
   "metadata": {
    "ExecuteTime": {
     "end_time": "2023-10-01T18:11:37.991352Z",
     "start_time": "2023-10-01T18:11:37.976674Z"
    }
   },
   "outputs": [],
   "source": [
    "df_full_train, df_test = train_test_split(data, test_size=0.2, random_state=42)\n",
    "df_train, df_val = train_test_split(df_full_train, test_size=0.25, random_state=42)\n",
    "\n",
    "df_train.reset_index(drop=True, inplace=True)\n",
    "df_val.reset_index(drop=True, inplace=True)\n",
    "df_test.reset_index(drop=True, inplace=True)\n"
   ]
  },
  {
   "cell_type": "code",
   "execution_count": 425,
   "id": "ac0f42e7",
   "metadata": {
    "ExecuteTime": {
     "end_time": "2023-10-01T18:11:38.159463Z",
     "start_time": "2023-10-01T18:11:38.146842Z"
    }
   },
   "outputs": [
    {
     "data": {
      "text/plain": [
       "(0.5999664260533826, 0.2000167869733087, 0.2000167869733087)"
      ]
     },
     "execution_count": 425,
     "metadata": {},
     "output_type": "execute_result"
    }
   ],
   "source": [
    "df_train.shape[0]/len(data), df_val.shape[0]/len(data), df_test.shape[0]/len(data)"
   ]
  },
  {
   "cell_type": "markdown",
   "id": "dc3e594b",
   "metadata": {},
   "source": [
    "# Question 3"
   ]
  },
  {
   "cell_type": "code",
   "execution_count": 426,
   "id": "3ee4ac4f",
   "metadata": {
    "ExecuteTime": {
     "end_time": "2023-10-01T18:11:39.445021Z",
     "start_time": "2023-10-01T18:11:39.395702Z"
    }
   },
   "outputs": [
    {
     "data": {
      "text/plain": [
       "model                0.46\n",
       "make                 0.24\n",
       "vehicle_style        0.08\n",
       "transmission_type    0.02\n",
       "dtype: float64"
      ]
     },
     "execution_count": 426,
     "metadata": {},
     "output_type": "execute_result"
    }
   ],
   "source": [
    "# data['above_average']\n",
    "categorical = list(df_train.select_dtypes('O'))\n",
    "\n",
    "def mutual_info_churn_score(series):\n",
    "    return mutual_info_score(series, df_train['above_average'])\n",
    "\n",
    "mi = round(df_train[categorical].apply(mutual_info_churn_score),2)\n",
    "mi.sort_values(ascending=False)"
   ]
  },
  {
   "cell_type": "markdown",
   "id": "78317b44",
   "metadata": {},
   "source": [
    "#### transmission_type has the lowest mutual information score"
   ]
  },
  {
   "cell_type": "code",
   "execution_count": 427,
   "id": "3bbd0756",
   "metadata": {
    "ExecuteTime": {
     "end_time": "2023-10-01T18:11:40.740465Z",
     "start_time": "2023-10-01T18:11:40.732313Z"
    }
   },
   "outputs": [],
   "source": [
    "y_train = df_train.above_average.values\n",
    "y_val = df_val.above_average.values\n",
    "y_test = df_test.above_average.values\n",
    "\n",
    "# del df_train['above_average']\n",
    "# del df_val['above_average']\n",
    "# del df_test['above_average']\n",
    "\n",
    "df_train.drop(['above_average', 'price'], axis=1, inplace=True)\n",
    "df_val.drop(['above_average', 'price'], axis=1, inplace=True)\n",
    "df_test.drop(['above_average', 'price'], axis=1, inplace=True)"
   ]
  },
  {
   "cell_type": "markdown",
   "id": "582fb17a",
   "metadata": {},
   "source": [
    "# Question 4"
   ]
  },
  {
   "cell_type": "code",
   "execution_count": 428,
   "id": "b116c11b",
   "metadata": {
    "ExecuteTime": {
     "end_time": "2023-10-01T18:11:41.550641Z",
     "start_time": "2023-10-01T18:11:41.537403Z"
    }
   },
   "outputs": [],
   "source": [
    "# for col in data[categorical].columns:\n",
    "#      print('##############################')\n",
    "#      print(data[col].value_counts())\n",
    "   "
   ]
  },
  {
   "cell_type": "code",
   "execution_count": 429,
   "id": "916e7280",
   "metadata": {
    "ExecuteTime": {
     "end_time": "2023-10-01T18:11:42.090406Z",
     "start_time": "2023-10-01T18:11:41.905102Z"
    }
   },
   "outputs": [],
   "source": [
    "dv = DictVectorizer(sparse=False)\n",
    "\n",
    "train_dict = df_train.to_dict(orient='records')\n",
    "X_train = dv.fit_transform(train_dict)\n",
    "\n",
    "val_dict = df_val.to_dict(orient='records')\n",
    "X_val = dv.transform(val_dict)"
   ]
  },
  {
   "cell_type": "code",
   "execution_count": 430,
   "id": "a33b899c",
   "metadata": {
    "ExecuteTime": {
     "end_time": "2023-10-01T18:11:42.350287Z",
     "start_time": "2023-10-01T18:11:42.338658Z"
    }
   },
   "outputs": [
    {
     "data": {
      "text/plain": [
       "((7148, 943), (7148,), (2383, 943), (2383,))"
      ]
     },
     "execution_count": 430,
     "metadata": {},
     "output_type": "execute_result"
    }
   ],
   "source": [
    "X_train.shape,y_train.shape, X_val.shape, y_val.shape,"
   ]
  },
  {
   "cell_type": "code",
   "execution_count": 432,
   "id": "9b701b80",
   "metadata": {
    "ExecuteTime": {
     "end_time": "2023-10-01T18:11:48.889690Z",
     "start_time": "2023-10-01T18:11:48.803106Z"
    }
   },
   "outputs": [
    {
     "name": "stdout",
     "output_type": "stream",
     "text": [
      "Accuracy score: 0.944188\n"
     ]
    }
   ],
   "source": [
    "lr = LogisticRegression(solver='liblinear', C=10, max_iter=1000, random_state=42)\n",
    "lr.fit(X_train, y_train)\n",
    "y_pred = lr.predict(X_val)\n",
    "print('Accuracy score:', np.round(accuracy_score(y_val, y_pred),8))"
   ]
  },
  {
   "cell_type": "markdown",
   "id": "3accbc41",
   "metadata": {
    "ExecuteTime": {
     "end_time": "2023-10-01T16:22:08.939429Z",
     "start_time": "2023-10-01T16:22:08.925120Z"
    }
   },
   "source": [
    "#### accuracy score: ~95%"
   ]
  },
  {
   "cell_type": "markdown",
   "id": "adae35fa",
   "metadata": {},
   "source": [
    "# Question 5"
   ]
  },
  {
   "cell_type": "markdown",
   "id": "248b9011",
   "metadata": {
    "ExecuteTime": {
     "end_time": "2023-10-01T16:26:32.733737Z",
     "start_time": "2023-10-01T16:26:32.717095Z"
    }
   },
   "source": [
    "Let's find the least useful feature using the feature elimination technique.\\\n",
    "Train a model with all these features (using the same parameters as in Q4).\\\n",
    "Now exclude each feature from this set and train a model without it. Record the accuracy for each model.\\\n",
    "For each feature, calculate the difference between the original accuracy and the accuracy without the feature"
   ]
  },
  {
   "cell_type": "code",
   "execution_count": 436,
   "id": "90cbc785",
   "metadata": {
    "ExecuteTime": {
     "end_time": "2023-10-01T18:13:04.150064Z",
     "start_time": "2023-10-01T18:13:02.116793Z"
    }
   },
   "outputs": [
    {
     "name": "stdout",
     "output_type": "stream",
     "text": [
      ">>>>>>>> excluding feature: make\n",
      "Without feature:make -> accuracy score:0.93\n",
      "Without feature:make -> difference with initial score:0.014188\n",
      "\n",
      "\n",
      ">>>>>>>> excluding feature: model\n",
      "Without feature:model -> accuracy score:0.92\n",
      "Without feature:model -> difference with initial score:0.024188\n",
      "\n",
      "\n",
      ">>>>>>>> excluding feature: year\n",
      "Without feature:year -> accuracy score:0.95\n",
      "Without feature:year -> difference with initial score:0.005812\n",
      "\n",
      "\n",
      ">>>>>>>> excluding feature: engine_hp\n",
      "Without feature:engine_hp -> accuracy score:0.92\n",
      "Without feature:engine_hp -> difference with initial score:0.024188\n",
      "\n",
      "\n",
      ">>>>>>>> excluding feature: engine_cylinders\n",
      "Without feature:engine_cylinders -> accuracy score:0.95\n",
      "Without feature:engine_cylinders -> difference with initial score:0.005812\n",
      "\n",
      "\n",
      ">>>>>>>> excluding feature: transmission_type\n",
      "Without feature:transmission_type -> accuracy score:0.94\n",
      "Without feature:transmission_type -> difference with initial score:0.004188\n",
      "\n",
      "\n",
      ">>>>>>>> excluding feature: vehicle_style\n",
      "Without feature:vehicle_style -> accuracy score:0.94\n",
      "Without feature:vehicle_style -> difference with initial score:0.004188\n",
      "\n",
      "\n",
      ">>>>>>>> excluding feature: highway_mpg\n",
      "Without feature:highway_mpg -> accuracy score:0.95\n",
      "Without feature:highway_mpg -> difference with initial score:0.005812\n",
      "\n",
      "\n",
      ">>>>>>>> excluding feature: city_mpg\n",
      "Without feature:city_mpg -> accuracy score:0.95\n",
      "Without feature:city_mpg -> difference with initial score:0.005812\n",
      "\n",
      "\n"
     ]
    }
   ],
   "source": [
    "score={}\n",
    "\n",
    "for feature in list(df_train.columns):\n",
    "    print('>>>>>>>> excluding feature:',feature)\n",
    "    \n",
    "    dt_train = df_train.drop(feature, axis=1)\n",
    "    dt_val = df_val.drop(feature, axis=1)\n",
    "    \n",
    "    dv = DictVectorizer(sparse=False)\n",
    "    train_dict = dt_train.to_dict(orient='records')\n",
    "    X_train = dv.fit_transform(train_dict)\n",
    "\n",
    "    val_dict = dt_val.to_dict(orient='records')\n",
    "    X_val = dv.transform(val_dict)\n",
    "    \n",
    "    lr = LogisticRegression(solver='liblinear', C=10, max_iter=1000, random_state=42)\n",
    "    lr.fit(X_train, y_train)\n",
    "    y_pred = lr.predict(X_val)\n",
    "    acc = np.round(accuracy_score(y_val, y_pred),2)\n",
    "    diff = np.round(np.abs(0.944188-acc),6) # accuracy of Q4 model= 0.95\n",
    "    \n",
    "    score[feature] = diff\n",
    "#     score['score'] = acc\n",
    "#     score['difference'] = diff\n",
    "    \n",
    "    print(f'Without feature:{feature} -> accuracy score:{acc}')\n",
    "    print(f'Without feature:{feature} -> difference with initial score:{diff}')\n",
    "    print('\\n')"
   ]
  },
  {
   "cell_type": "code",
   "execution_count": 437,
   "id": "466c0f5a",
   "metadata": {
    "ExecuteTime": {
     "end_time": "2023-10-01T18:13:04.165882Z",
     "start_time": "2023-10-01T18:13:04.151586Z"
    }
   },
   "outputs": [
    {
     "data": {
      "text/plain": [
       "[('transmission_type', 0.004188),\n",
       " ('vehicle_style', 0.004188),\n",
       " ('year', 0.005812),\n",
       " ('engine_cylinders', 0.005812),\n",
       " ('highway_mpg', 0.005812),\n",
       " ('city_mpg', 0.005812),\n",
       " ('make', 0.014188),\n",
       " ('model', 0.024188),\n",
       " ('engine_hp', 0.024188)]"
      ]
     },
     "execution_count": 437,
     "metadata": {},
     "output_type": "execute_result"
    }
   ],
   "source": [
    "sorted(score.items(), key=lambda x:x[1])"
   ]
  },
  {
   "cell_type": "markdown",
   "id": "ee0fa36c",
   "metadata": {},
   "source": [
    "# Question 6"
   ]
  },
  {
   "cell_type": "code",
   "execution_count": 362,
   "id": "8ac2f5a0",
   "metadata": {
    "ExecuteTime": {
     "end_time": "2023-10-01T17:43:57.250325Z",
     "start_time": "2023-10-01T17:43:57.231035Z"
    }
   },
   "outputs": [],
   "source": [
    "data['log_1p_price'] = np.log1p(data.price)\n",
    "data.drop(['price', 'above_average'], axis=1, inplace=True)"
   ]
  },
  {
   "cell_type": "code",
   "execution_count": 393,
   "id": "3139c651",
   "metadata": {
    "ExecuteTime": {
     "end_time": "2023-10-01T18:03:08.850488Z",
     "start_time": "2023-10-01T18:03:08.835279Z"
    }
   },
   "outputs": [],
   "source": [
    "df_full_train, df_test = train_test_split(data, test_size=0.2, random_state=42)\n",
    "df_train, df_val = train_test_split(df_full_train, test_size=0.25, random_state=42)\n",
    "\n",
    "df_train.reset_index(drop=True, inplace=True)\n",
    "df_val.reset_index(drop=True, inplace=True)\n",
    "df_test.reset_index(drop=True, inplace=True)\n",
    "\n",
    "y_train = df_train.log_1p_price.values\n",
    "y_val = df_val.log_1p_price.values\n",
    "y_test = df_test.log_1p_price.values\n",
    "\n",
    "# del df_train['above_average']\n",
    "# del df_val['above_average']\n",
    "# del df_test['above_average']\n",
    "\n",
    "del df_train['log_1p_price']\n",
    "del df_val['log_1p_price']\n",
    "del df_test['log_1p_price']"
   ]
  },
  {
   "cell_type": "code",
   "execution_count": 395,
   "id": "41618340",
   "metadata": {
    "ExecuteTime": {
     "end_time": "2023-10-01T18:08:08.201950Z",
     "start_time": "2023-10-01T18:03:29.624809Z"
    }
   },
   "outputs": [
    {
     "name": "stdout",
     "output_type": "stream",
     "text": [
      "Alpha parameter:0, gives RMSE:0.487\n",
      "Alpha parameter:0.01, gives RMSE:0.487\n",
      "Alpha parameter:0.1, gives RMSE:0.487\n",
      "Alpha parameter:1, gives RMSE:0.487\n",
      "Alpha parameter:10, gives RMSE:0.487\n"
     ]
    }
   ],
   "source": [
    "dv = DictVectorizer(sparse=False)\n",
    "train_dict = df_train.to_dict(orient='records')\n",
    "X_train = dv.fit_transform(train_dict)\n",
    "\n",
    "val_dict = df_val.to_dict(orient='records')\n",
    "X_val = dv.transform(val_dict)\n",
    "\n",
    "# # # ridge_score={}\n",
    "for a in [0, 0.01, 0.1, 1, 10]: \n",
    "    r = Ridge(alpha=a, solver='sag', random_state=42)\n",
    "    r.fit(X_train, y_train)\n",
    "    y_pred = r.predict(X_val)\n",
    "    rmse = np.round(np.sqrt(mean_squared_error(y_val, y_pred)), 3)\n",
    "    print(f'Alpha parameter:{a}, gives RMSE:{rmse}')\n"
   ]
  },
  {
   "cell_type": "code",
   "execution_count": null,
   "id": "d6bb18ca",
   "metadata": {},
   "outputs": [],
   "source": []
  },
  {
   "cell_type": "code",
   "execution_count": null,
   "id": "fe80d8b2",
   "metadata": {},
   "outputs": [],
   "source": []
  },
  {
   "cell_type": "code",
   "execution_count": null,
   "id": "d3316f4a",
   "metadata": {},
   "outputs": [],
   "source": []
  }
 ],
 "metadata": {
  "kernelspec": {
   "display_name": "Python 3",
   "language": "python",
   "name": "python3"
  },
  "language_info": {
   "codemirror_mode": {
    "name": "ipython",
    "version": 3
   },
   "file_extension": ".py",
   "mimetype": "text/x-python",
   "name": "python",
   "nbconvert_exporter": "python",
   "pygments_lexer": "ipython3",
   "version": "3.8.8"
  },
  "toc": {
   "base_numbering": 1,
   "nav_menu": {},
   "number_sections": true,
   "sideBar": true,
   "skip_h1_title": false,
   "title_cell": "Table of Contents",
   "title_sidebar": "Contents",
   "toc_cell": false,
   "toc_position": {},
   "toc_section_display": true,
   "toc_window_display": false
  }
 },
 "nbformat": 4,
 "nbformat_minor": 5
}
