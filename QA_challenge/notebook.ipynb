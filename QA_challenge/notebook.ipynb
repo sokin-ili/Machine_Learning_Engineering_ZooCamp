{
 "cells": [
  {
   "cell_type": "code",
   "execution_count": 1,
   "metadata": {},
   "outputs": [],
   "source": [
    "import pandas as pd\n",
    "import numpy as np\n",
    "import matplotlib.pyplot as plt\n",
    "import seaborn as sns\n",
    "import warnings\n",
    "import os\n",
    "\n",
    "# os.chdir(\"/home/nikosili/projects/datatalks_zoomcamp/Machine_Learning_Engineering_ZooCamp/QA_challenge\")\n",
    "# \n",
    "warnings.filterwarnings('ignore')\n",
    "# sns.set_theme()\n",
    "%matplotlib inline"
   ]
  },
  {
   "cell_type": "code",
   "execution_count": 2,
   "metadata": {},
   "outputs": [],
   "source": [
    "train_a = pd.read_csv('data/train_answers.csv')\n",
    "train_q = pd.read_csv('data/train_questions.csv')\n",
    "test_q = pd.read_csv('data/test_questions.csv')\n",
    "test_a = pd.read_csv('data/test_answers.csv')"
   ]
  },
  {
   "cell_type": "markdown",
   "metadata": {},
   "source": [
    "### Train set"
   ]
  },
  {
   "cell_type": "code",
   "execution_count": 25,
   "metadata": {},
   "outputs": [
    {
     "name": "stdout",
     "output_type": "stream",
     "text": [
      "For categorical target set, where the distribution is imbalanced (for example, 90/10) what approach should be used? \n",
      "\n",
      " Alexey\n",
      "Should we use something non-standard there or can we just go with the usual things we learned in the course?\n",
      "Hamed\n",
      "You just need to test different strategies. Something I noticed – if you have so many parse subclasses in your categorical [inaudible], you should be careful about using one-hot encoding. You might say you can use ordinal encoding, if your data in nature had some order. It will be useful. In my particular data, I couldn't have domain knowledge. I didn't know what the subclasses were, so I couldn't decide which strategy I should choose. But if you have the domain knowledge, that’s the key here, I think.\n"
     ]
    }
   ],
   "source": [
    "print(train_q.iloc[0][1],'\\n\\n',train_a.iloc[0][1])\n"
   ]
  },
  {
   "cell_type": "code",
   "execution_count": 4,
   "metadata": {},
   "outputs": [
    {
     "data": {
      "text/plain": [
       "\"Alexey\\nShould we use something non-standard there or can we just go with the usual things we learned in the course?\\nHamed\\nYou just need to test different strategies. Something I noticed – if you have so many parse subclasses in your categorical [inaudible], you should be careful about using one-hot encoding. You might say you can use ordinal encoding, if your data in nature had some order. It will be useful. In my particular data, I couldn't have domain knowledge. I didn't know what the subclasses were, so I couldn't decide which strategy I should choose. But if you have the domain knowledge, that’s the key here, I think.\""
      ]
     },
     "execution_count": 4,
     "metadata": {},
     "output_type": "execute_result"
    }
   ],
   "source": []
  },
  {
   "cell_type": "code",
   "execution_count": 5,
   "metadata": {},
   "outputs": [
    {
     "data": {
      "text/html": [
       "<div>\n",
       "<style scoped>\n",
       "    .dataframe tbody tr th:only-of-type {\n",
       "        vertical-align: middle;\n",
       "    }\n",
       "\n",
       "    .dataframe tbody tr th {\n",
       "        vertical-align: top;\n",
       "    }\n",
       "\n",
       "    .dataframe thead th {\n",
       "        text-align: right;\n",
       "    }\n",
       "</style>\n",
       "<table border=\"1\" class=\"dataframe\">\n",
       "  <thead>\n",
       "    <tr style=\"text-align: right;\">\n",
       "      <th></th>\n",
       "      <th>question_id</th>\n",
       "      <th>question</th>\n",
       "      <th>course</th>\n",
       "      <th>year</th>\n",
       "      <th>candidate_answers</th>\n",
       "      <th>answer_id</th>\n",
       "    </tr>\n",
       "  </thead>\n",
       "  <tbody>\n",
       "    <tr>\n",
       "      <th>0</th>\n",
       "      <td>79062</td>\n",
       "      <td>For categorical target set, where the distribu...</td>\n",
       "      <td>Machine Learning Zoomcamp</td>\n",
       "      <td>2021</td>\n",
       "      <td>156400,754877,105368,643810,912439</td>\n",
       "      <td>156400</td>\n",
       "    </tr>\n",
       "    <tr>\n",
       "      <th>1</th>\n",
       "      <td>468946</td>\n",
       "      <td>Is there anything that we are not allowed to u...</td>\n",
       "      <td>Machine Learning Zoomcamp</td>\n",
       "      <td>2021</td>\n",
       "      <td>641330,634887,912439,425941,642829</td>\n",
       "      <td>634887</td>\n",
       "    </tr>\n",
       "    <tr>\n",
       "      <th>2</th>\n",
       "      <td>968800</td>\n",
       "      <td>I have been catching up and have been doing ho...</td>\n",
       "      <td>Data Engineering Zoomcamp</td>\n",
       "      <td>2022</td>\n",
       "      <td>954016,167856,75919,36798,838013</td>\n",
       "      <td>954016</td>\n",
       "    </tr>\n",
       "    <tr>\n",
       "      <th>3</th>\n",
       "      <td>688404</td>\n",
       "      <td>Could you please explain what code we should l...</td>\n",
       "      <td>Data Engineering Zoomcamp</td>\n",
       "      <td>2022</td>\n",
       "      <td>198661,629898,686577,3699,141765</td>\n",
       "      <td>3699</td>\n",
       "    </tr>\n",
       "    <tr>\n",
       "      <th>4</th>\n",
       "      <td>63921</td>\n",
       "      <td>Is it just me or does the model have really ba...</td>\n",
       "      <td>Machine Learning Zoomcamp</td>\n",
       "      <td>2021</td>\n",
       "      <td>754877,604487,912439,858915,425941</td>\n",
       "      <td>858915</td>\n",
       "    </tr>\n",
       "  </tbody>\n",
       "</table>\n",
       "</div>"
      ],
      "text/plain": [
       "   question_id                                           question  \\\n",
       "0        79062  For categorical target set, where the distribu...   \n",
       "1       468946  Is there anything that we are not allowed to u...   \n",
       "2       968800  I have been catching up and have been doing ho...   \n",
       "3       688404  Could you please explain what code we should l...   \n",
       "4        63921  Is it just me or does the model have really ba...   \n",
       "\n",
       "                      course  year                   candidate_answers  \\\n",
       "0  Machine Learning Zoomcamp  2021  156400,754877,105368,643810,912439   \n",
       "1  Machine Learning Zoomcamp  2021  641330,634887,912439,425941,642829   \n",
       "2  Data Engineering Zoomcamp  2022    954016,167856,75919,36798,838013   \n",
       "3  Data Engineering Zoomcamp  2022    198661,629898,686577,3699,141765   \n",
       "4  Machine Learning Zoomcamp  2021  754877,604487,912439,858915,425941   \n",
       "\n",
       "   answer_id  \n",
       "0     156400  \n",
       "1     634887  \n",
       "2     954016  \n",
       "3       3699  \n",
       "4     858915  "
      ]
     },
     "execution_count": 5,
     "metadata": {},
     "output_type": "execute_result"
    }
   ],
   "source": [
    "train_q.head()"
   ]
  },
  {
   "cell_type": "code",
   "execution_count": 6,
   "metadata": {},
   "outputs": [
    {
     "data": {
      "text/html": [
       "<div>\n",
       "<style scoped>\n",
       "    .dataframe tbody tr th:only-of-type {\n",
       "        vertical-align: middle;\n",
       "    }\n",
       "\n",
       "    .dataframe tbody tr th {\n",
       "        vertical-align: top;\n",
       "    }\n",
       "\n",
       "    .dataframe thead th {\n",
       "        text-align: right;\n",
       "    }\n",
       "</style>\n",
       "<table border=\"1\" class=\"dataframe\">\n",
       "  <thead>\n",
       "    <tr style=\"text-align: right;\">\n",
       "      <th></th>\n",
       "      <th>answer_id</th>\n",
       "      <th>answer</th>\n",
       "      <th>course</th>\n",
       "      <th>year</th>\n",
       "      <th>attachments_files</th>\n",
       "    </tr>\n",
       "  </thead>\n",
       "  <tbody>\n",
       "    <tr>\n",
       "      <th>0</th>\n",
       "      <td>156400</td>\n",
       "      <td>Alexey\\nShould we use something non-standard t...</td>\n",
       "      <td>Machine Learning Zoomcamp</td>\n",
       "      <td>2021</td>\n",
       "      <td>NaN</td>\n",
       "    </tr>\n",
       "    <tr>\n",
       "      <th>1</th>\n",
       "      <td>634887</td>\n",
       "      <td>No, I don't think there is anything you cannot...</td>\n",
       "      <td>Machine Learning Zoomcamp</td>\n",
       "      <td>2021</td>\n",
       "      <td>NaN</td>\n",
       "    </tr>\n",
       "    <tr>\n",
       "      <th>2</th>\n",
       "      <td>954016</td>\n",
       "      <td>Alexey\\nYes, you will be. You can submit the p...</td>\n",
       "      <td>Data Engineering Zoomcamp</td>\n",
       "      <td>2022</td>\n",
       "      <td>NaN</td>\n",
       "    </tr>\n",
       "    <tr>\n",
       "      <th>3</th>\n",
       "      <td>3699</td>\n",
       "      <td>Alexey\\nI think the question refers to the hom...</td>\n",
       "      <td>Data Engineering Zoomcamp</td>\n",
       "      <td>2022</td>\n",
       "      <td>NaN</td>\n",
       "    </tr>\n",
       "    <tr>\n",
       "      <th>4</th>\n",
       "      <td>858915</td>\n",
       "      <td>Dmitry\\nIt's fine, because this is the showcas...</td>\n",
       "      <td>Machine Learning Zoomcamp</td>\n",
       "      <td>2021</td>\n",
       "      <td>NaN</td>\n",
       "    </tr>\n",
       "  </tbody>\n",
       "</table>\n",
       "</div>"
      ],
      "text/plain": [
       "   answer_id                                             answer  \\\n",
       "0     156400  Alexey\\nShould we use something non-standard t...   \n",
       "1     634887  No, I don't think there is anything you cannot...   \n",
       "2     954016  Alexey\\nYes, you will be. You can submit the p...   \n",
       "3       3699  Alexey\\nI think the question refers to the hom...   \n",
       "4     858915  Dmitry\\nIt's fine, because this is the showcas...   \n",
       "\n",
       "                      course  year attachments_files  \n",
       "0  Machine Learning Zoomcamp  2021               NaN  \n",
       "1  Machine Learning Zoomcamp  2021               NaN  \n",
       "2  Data Engineering Zoomcamp  2022               NaN  \n",
       "3  Data Engineering Zoomcamp  2022               NaN  \n",
       "4  Machine Learning Zoomcamp  2021               NaN  "
      ]
     },
     "execution_count": 6,
     "metadata": {},
     "output_type": "execute_result"
    }
   ],
   "source": [
    "train_a.head()"
   ]
  },
  {
   "cell_type": "code",
   "execution_count": 7,
   "metadata": {},
   "outputs": [
    {
     "data": {
      "text/html": [
       "<div>\n",
       "<style scoped>\n",
       "    .dataframe tbody tr th:only-of-type {\n",
       "        vertical-align: middle;\n",
       "    }\n",
       "\n",
       "    .dataframe tbody tr th {\n",
       "        vertical-align: top;\n",
       "    }\n",
       "\n",
       "    .dataframe thead th {\n",
       "        text-align: right;\n",
       "    }\n",
       "</style>\n",
       "<table border=\"1\" class=\"dataframe\">\n",
       "  <thead>\n",
       "    <tr style=\"text-align: right;\">\n",
       "      <th></th>\n",
       "      <th>question_id</th>\n",
       "      <th>rec_count</th>\n",
       "    </tr>\n",
       "  </thead>\n",
       "  <tbody>\n",
       "    <tr>\n",
       "      <th>279</th>\n",
       "      <td>647840</td>\n",
       "      <td>2</td>\n",
       "    </tr>\n",
       "    <tr>\n",
       "      <th>0</th>\n",
       "      <td>26</td>\n",
       "      <td>1</td>\n",
       "    </tr>\n",
       "    <tr>\n",
       "      <th>261</th>\n",
       "      <td>605034</td>\n",
       "      <td>1</td>\n",
       "    </tr>\n",
       "    <tr>\n",
       "      <th>270</th>\n",
       "      <td>622805</td>\n",
       "      <td>1</td>\n",
       "    </tr>\n",
       "    <tr>\n",
       "      <th>269</th>\n",
       "      <td>619694</td>\n",
       "      <td>1</td>\n",
       "    </tr>\n",
       "    <tr>\n",
       "      <th>...</th>\n",
       "      <td>...</td>\n",
       "      <td>...</td>\n",
       "    </tr>\n",
       "    <tr>\n",
       "      <th>129</th>\n",
       "      <td>282338</td>\n",
       "      <td>1</td>\n",
       "    </tr>\n",
       "    <tr>\n",
       "      <th>128</th>\n",
       "      <td>278678</td>\n",
       "      <td>1</td>\n",
       "    </tr>\n",
       "    <tr>\n",
       "      <th>127</th>\n",
       "      <td>274935</td>\n",
       "      <td>1</td>\n",
       "    </tr>\n",
       "    <tr>\n",
       "      <th>126</th>\n",
       "      <td>273744</td>\n",
       "      <td>1</td>\n",
       "    </tr>\n",
       "    <tr>\n",
       "      <th>395</th>\n",
       "      <td>994378</td>\n",
       "      <td>1</td>\n",
       "    </tr>\n",
       "  </tbody>\n",
       "</table>\n",
       "<p>396 rows × 2 columns</p>\n",
       "</div>"
      ],
      "text/plain": [
       "     question_id  rec_count\n",
       "279       647840          2\n",
       "0             26          1\n",
       "261       605034          1\n",
       "270       622805          1\n",
       "269       619694          1\n",
       "..           ...        ...\n",
       "129       282338          1\n",
       "128       278678          1\n",
       "127       274935          1\n",
       "126       273744          1\n",
       "395       994378          1\n",
       "\n",
       "[396 rows x 2 columns]"
      ]
     },
     "execution_count": 7,
     "metadata": {},
     "output_type": "execute_result"
    }
   ],
   "source": [
    "temp_1 = train_q.groupby(['question_id', 'answer_id']).size().reset_index().rename(columns={0:'rec_count'})\n",
    "temp_1.groupby('question_id').size().reset_index().rename(columns={0:'rec_count'}).sort_values('rec_count', ascending=False)"
   ]
  },
  {
   "cell_type": "code",
   "execution_count": 8,
   "metadata": {},
   "outputs": [
    {
     "data": {
      "text/html": [
       "<div>\n",
       "<style scoped>\n",
       "    .dataframe tbody tr th:only-of-type {\n",
       "        vertical-align: middle;\n",
       "    }\n",
       "\n",
       "    .dataframe tbody tr th {\n",
       "        vertical-align: top;\n",
       "    }\n",
       "\n",
       "    .dataframe thead th {\n",
       "        text-align: right;\n",
       "    }\n",
       "</style>\n",
       "<table border=\"1\" class=\"dataframe\">\n",
       "  <thead>\n",
       "    <tr style=\"text-align: right;\">\n",
       "      <th></th>\n",
       "      <th>answer_id</th>\n",
       "      <th>rec_count</th>\n",
       "    </tr>\n",
       "  </thead>\n",
       "  <tbody>\n",
       "    <tr>\n",
       "      <th>310</th>\n",
       "      <td>774098</td>\n",
       "      <td>2</td>\n",
       "    </tr>\n",
       "    <tr>\n",
       "      <th>0</th>\n",
       "      <td>3699</td>\n",
       "      <td>1</td>\n",
       "    </tr>\n",
       "    <tr>\n",
       "      <th>270</th>\n",
       "      <td>673096</td>\n",
       "      <td>1</td>\n",
       "    </tr>\n",
       "    <tr>\n",
       "      <th>269</th>\n",
       "      <td>668438</td>\n",
       "      <td>1</td>\n",
       "    </tr>\n",
       "    <tr>\n",
       "      <th>268</th>\n",
       "      <td>666820</td>\n",
       "      <td>1</td>\n",
       "    </tr>\n",
       "    <tr>\n",
       "      <th>...</th>\n",
       "      <td>...</td>\n",
       "      <td>...</td>\n",
       "    </tr>\n",
       "    <tr>\n",
       "      <th>129</th>\n",
       "      <td>325935</td>\n",
       "      <td>1</td>\n",
       "    </tr>\n",
       "    <tr>\n",
       "      <th>128</th>\n",
       "      <td>323402</td>\n",
       "      <td>1</td>\n",
       "    </tr>\n",
       "    <tr>\n",
       "      <th>127</th>\n",
       "      <td>322444</td>\n",
       "      <td>1</td>\n",
       "    </tr>\n",
       "    <tr>\n",
       "      <th>126</th>\n",
       "      <td>317865</td>\n",
       "      <td>1</td>\n",
       "    </tr>\n",
       "    <tr>\n",
       "      <th>395</th>\n",
       "      <td>998091</td>\n",
       "      <td>1</td>\n",
       "    </tr>\n",
       "  </tbody>\n",
       "</table>\n",
       "<p>396 rows × 2 columns</p>\n",
       "</div>"
      ],
      "text/plain": [
       "     answer_id  rec_count\n",
       "310     774098          2\n",
       "0         3699          1\n",
       "270     673096          1\n",
       "269     668438          1\n",
       "268     666820          1\n",
       "..         ...        ...\n",
       "129     325935          1\n",
       "128     323402          1\n",
       "127     322444          1\n",
       "126     317865          1\n",
       "395     998091          1\n",
       "\n",
       "[396 rows x 2 columns]"
      ]
     },
     "execution_count": 8,
     "metadata": {},
     "output_type": "execute_result"
    }
   ],
   "source": [
    "temp_1.groupby('answer_id').size().reset_index().rename(columns={0:'rec_count'}).sort_values('rec_count', ascending=False)"
   ]
  },
  {
   "cell_type": "code",
   "execution_count": 9,
   "metadata": {},
   "outputs": [
    {
     "name": "stdout",
     "output_type": "stream",
     "text": [
      "Can we use PyTorch instead of TensorFlow?\n",
      "For rating data (number of stars) can we use a linear regression model? \n",
      "\n",
      "261    Yes, you can.\n",
      "358    Yes, you can.\n",
      "Name: answer, dtype: object\n"
     ]
    }
   ],
   "source": [
    "# print(train_q[train_q['answer_id'] == 774098].answr)\n",
    "print(train_q[train_q['answer_id'] == 774098].question.iloc[0])\n",
    "print(train_q[train_q['answer_id'] == 774098].question.iloc[1],'\\n')\n",
    "print(train_a[train_a['answer_id'] == 774098].answer)"
   ]
  },
  {
   "cell_type": "code",
   "execution_count": 10,
   "metadata": {},
   "outputs": [
    {
     "name": "stdout",
     "output_type": "stream",
     "text": [
      "(397, 6)\n",
      "(396, 6)\n",
      "Can we use PyTorch instead of TensorFlow?\n"
     ]
    }
   ],
   "source": [
    "print(train_q.shape)\n",
    "temp = train_q.drop_duplicates(subset=['answer_id'], keep='first')\n",
    "print(temp.shape)\n",
    "print(temp[temp['answer_id'] == 774098].question.iloc[0])"
   ]
  },
  {
   "cell_type": "code",
   "execution_count": 11,
   "metadata": {},
   "outputs": [
    {
     "data": {
      "text/plain": [
       "72     How many submissions were there this week?\n",
       "159    How many submissions were there this week?\n",
       "Name: question, dtype: object"
      ]
     },
     "execution_count": 11,
     "metadata": {},
     "output_type": "execute_result"
    }
   ],
   "source": [
    "train_q[train_q['question_id'] == 647840].question"
   ]
  },
  {
   "cell_type": "code",
   "execution_count": 12,
   "metadata": {},
   "outputs": [
    {
     "data": {
      "text/plain": [
       "[72, 159]"
      ]
     },
     "execution_count": 12,
     "metadata": {},
     "output_type": "execute_result"
    }
   ],
   "source": [
    "list(train_q[train_q['question_id'] == 647840].question.index)"
   ]
  },
  {
   "cell_type": "code",
   "execution_count": 13,
   "metadata": {},
   "outputs": [
    {
     "name": "stdout",
     "output_type": "stream",
     "text": [
      "I think around 200? 204, I think. Something like this. \n",
      "\n",
      "Alexey\n",
      "246, which is 150 less than last week. Last week, it was 404. I don’t know if this homework was maybe a bit more difficult. But the next one is also fun. I think if you liked the homework we prepared for this week, the next one will also be fun. Right, Dmitry? \n",
      "Dmitry\n",
      "Yeah, for sure.\n"
     ]
    }
   ],
   "source": [
    "print(train_a[(train_a['answer_id'] == 276086) | (train_a['answer_id'] == 964992)].answer.iloc[0],'\\n')\n",
    "print(train_a[(train_a['answer_id'] == 276086) | (train_a['answer_id'] == 964992)].answer.iloc[1])"
   ]
  },
  {
   "cell_type": "code",
   "execution_count": 14,
   "metadata": {},
   "outputs": [
    {
     "name": "stdout",
     "output_type": "stream",
     "text": [
      "(396, 6)\n",
      "(394, 6)\n"
     ]
    }
   ],
   "source": [
    "print(temp.shape)\n",
    "temp = temp.drop(list(train_q[train_q['question_id'] == 647840].question.index))\n",
    "print(temp.shape)\n",
    "\n"
   ]
  },
  {
   "cell_type": "markdown",
   "metadata": {},
   "source": []
  },
  {
   "cell_type": "markdown",
   "metadata": {},
   "source": [
    "### Test set"
   ]
  },
  {
   "cell_type": "code",
   "execution_count": 32,
   "metadata": {},
   "outputs": [
    {
     "data": {
      "text/html": [
       "<div>\n",
       "<style scoped>\n",
       "    .dataframe tbody tr th:only-of-type {\n",
       "        vertical-align: middle;\n",
       "    }\n",
       "\n",
       "    .dataframe tbody tr th {\n",
       "        vertical-align: top;\n",
       "    }\n",
       "\n",
       "    .dataframe thead th {\n",
       "        text-align: right;\n",
       "    }\n",
       "</style>\n",
       "<table border=\"1\" class=\"dataframe\">\n",
       "  <thead>\n",
       "    <tr style=\"text-align: right;\">\n",
       "      <th></th>\n",
       "      <th>answer_id</th>\n",
       "      <th>answer</th>\n",
       "      <th>course</th>\n",
       "      <th>year</th>\n",
       "      <th>attachments_files</th>\n",
       "    </tr>\n",
       "  </thead>\n",
       "  <tbody>\n",
       "    <tr>\n",
       "      <th>73</th>\n",
       "      <td>774098</td>\n",
       "      <td>Yes, you can.</td>\n",
       "      <td>Data Engineering Zoomcamp</td>\n",
       "      <td>2023</td>\n",
       "      <td>NaN</td>\n",
       "    </tr>\n",
       "  </tbody>\n",
       "</table>\n",
       "</div>"
      ],
      "text/plain": [
       "    answer_id         answer                     course  year  \\\n",
       "73     774098  Yes, you can.  Data Engineering Zoomcamp  2023   \n",
       "\n",
       "   attachments_files  \n",
       "73               NaN  "
      ]
     },
     "execution_count": 32,
     "metadata": {},
     "output_type": "execute_result"
    }
   ],
   "source": [
    "test_a[test_a.duplicated()]"
   ]
  },
  {
   "cell_type": "code",
   "execution_count": null,
   "metadata": {},
   "outputs": [],
   "source": []
  }
 ],
 "metadata": {
  "kernelspec": {
   "display_name": "cnn_mle",
   "language": "python",
   "name": "cnn_mle"
  },
  "language_info": {
   "codemirror_mode": {
    "name": "ipython",
    "version": 3
   },
   "file_extension": ".py",
   "mimetype": "text/x-python",
   "name": "python",
   "nbconvert_exporter": "python",
   "pygments_lexer": "ipython3",
   "version": "3.10.12"
  }
 },
 "nbformat": 4,
 "nbformat_minor": 2
}
