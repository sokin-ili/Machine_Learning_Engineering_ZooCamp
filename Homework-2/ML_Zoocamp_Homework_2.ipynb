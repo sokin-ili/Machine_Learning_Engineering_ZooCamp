{
 "cells": [
  {
   "cell_type": "code",
   "execution_count": 9,
   "id": "687b9875",
   "metadata": {
    "ExecuteTime": {
     "end_time": "2023-09-24T12:22:33.428410Z",
     "start_time": "2023-09-24T12:22:33.417356Z"
    }
   },
   "outputs": [
    {
     "data": {
      "text/plain": [
       "'C:\\\\Users\\\\sokin\\\\Documents\\\\Zoocamp\\\\Homework-2'"
      ]
     },
     "execution_count": 9,
     "metadata": {},
     "output_type": "execute_result"
    }
   ],
   "source": [
    "import os\n",
    "os.chdir(r'C:\\Users\\sokin\\Documents\\Zoocamp\\Homework-2')\n",
    "os.getcwd()"
   ]
  },
  {
   "cell_type": "code",
   "execution_count": 341,
   "id": "9b149399",
   "metadata": {
    "ExecuteTime": {
     "end_time": "2023-09-24T14:30:03.346866Z",
     "start_time": "2023-09-24T14:30:03.330731Z"
    }
   },
   "outputs": [],
   "source": [
    "import pandas as pd\n",
    "import numpy as np\n",
    "import seaborn as sns\n",
    "import matplotlib.pyplot as plt\n",
    "from scipy.stats import kurtosis, skew, expon, probplot\n",
    "from sklearn.model_selection import train_test_split\n",
    "from sklearn.linear_model import LinearRegression, Lasso\n",
    "from sklearn.metrics import mean_squared_error\n",
    "\n",
    "%matplotlib inline\n",
    "sns.set_theme(style='darkgrid')\n",
    "import warnings\n",
    "warnings.filterwarnings(\"ignore\")"
   ]
  },
  {
   "cell_type": "code",
   "execution_count": 93,
   "id": "d09780f8",
   "metadata": {
    "ExecuteTime": {
     "end_time": "2023-09-24T12:59:11.079779Z",
     "start_time": "2023-09-24T12:59:11.042092Z"
    }
   },
   "outputs": [
    {
     "data": {
      "text/html": [
       "<div>\n",
       "<style scoped>\n",
       "    .dataframe tbody tr th:only-of-type {\n",
       "        vertical-align: middle;\n",
       "    }\n",
       "\n",
       "    .dataframe tbody tr th {\n",
       "        vertical-align: top;\n",
       "    }\n",
       "\n",
       "    .dataframe thead th {\n",
       "        text-align: right;\n",
       "    }\n",
       "</style>\n",
       "<table border=\"1\" class=\"dataframe\">\n",
       "  <thead>\n",
       "    <tr style=\"text-align: right;\">\n",
       "      <th></th>\n",
       "      <th>longitude</th>\n",
       "      <th>latitude</th>\n",
       "      <th>housing_median_age</th>\n",
       "      <th>total_rooms</th>\n",
       "      <th>total_bedrooms</th>\n",
       "      <th>population</th>\n",
       "      <th>households</th>\n",
       "      <th>median_income</th>\n",
       "      <th>median_house_value</th>\n",
       "      <th>ocean_proximity</th>\n",
       "    </tr>\n",
       "  </thead>\n",
       "  <tbody>\n",
       "    <tr>\n",
       "      <th>0</th>\n",
       "      <td>-122.23</td>\n",
       "      <td>37.88</td>\n",
       "      <td>41.0</td>\n",
       "      <td>880.0</td>\n",
       "      <td>129.0</td>\n",
       "      <td>322.0</td>\n",
       "      <td>126.0</td>\n",
       "      <td>8.3252</td>\n",
       "      <td>452600.0</td>\n",
       "      <td>NEAR BAY</td>\n",
       "    </tr>\n",
       "    <tr>\n",
       "      <th>1</th>\n",
       "      <td>-122.22</td>\n",
       "      <td>37.86</td>\n",
       "      <td>21.0</td>\n",
       "      <td>7099.0</td>\n",
       "      <td>1106.0</td>\n",
       "      <td>2401.0</td>\n",
       "      <td>1138.0</td>\n",
       "      <td>8.3014</td>\n",
       "      <td>358500.0</td>\n",
       "      <td>NEAR BAY</td>\n",
       "    </tr>\n",
       "    <tr>\n",
       "      <th>2</th>\n",
       "      <td>-122.24</td>\n",
       "      <td>37.85</td>\n",
       "      <td>52.0</td>\n",
       "      <td>1467.0</td>\n",
       "      <td>190.0</td>\n",
       "      <td>496.0</td>\n",
       "      <td>177.0</td>\n",
       "      <td>7.2574</td>\n",
       "      <td>352100.0</td>\n",
       "      <td>NEAR BAY</td>\n",
       "    </tr>\n",
       "    <tr>\n",
       "      <th>3</th>\n",
       "      <td>-122.25</td>\n",
       "      <td>37.85</td>\n",
       "      <td>52.0</td>\n",
       "      <td>1274.0</td>\n",
       "      <td>235.0</td>\n",
       "      <td>558.0</td>\n",
       "      <td>219.0</td>\n",
       "      <td>5.6431</td>\n",
       "      <td>341300.0</td>\n",
       "      <td>NEAR BAY</td>\n",
       "    </tr>\n",
       "    <tr>\n",
       "      <th>4</th>\n",
       "      <td>-122.25</td>\n",
       "      <td>37.85</td>\n",
       "      <td>52.0</td>\n",
       "      <td>1627.0</td>\n",
       "      <td>280.0</td>\n",
       "      <td>565.0</td>\n",
       "      <td>259.0</td>\n",
       "      <td>3.8462</td>\n",
       "      <td>342200.0</td>\n",
       "      <td>NEAR BAY</td>\n",
       "    </tr>\n",
       "  </tbody>\n",
       "</table>\n",
       "</div>"
      ],
      "text/plain": [
       "   longitude  latitude  housing_median_age  total_rooms  total_bedrooms  \\\n",
       "0    -122.23     37.88                41.0        880.0           129.0   \n",
       "1    -122.22     37.86                21.0       7099.0          1106.0   \n",
       "2    -122.24     37.85                52.0       1467.0           190.0   \n",
       "3    -122.25     37.85                52.0       1274.0           235.0   \n",
       "4    -122.25     37.85                52.0       1627.0           280.0   \n",
       "\n",
       "   population  households  median_income  median_house_value ocean_proximity  \n",
       "0       322.0       126.0         8.3252            452600.0        NEAR BAY  \n",
       "1      2401.0      1138.0         8.3014            358500.0        NEAR BAY  \n",
       "2       496.0       177.0         7.2574            352100.0        NEAR BAY  \n",
       "3       558.0       219.0         5.6431            341300.0        NEAR BAY  \n",
       "4       565.0       259.0         3.8462            342200.0        NEAR BAY  "
      ]
     },
     "execution_count": 93,
     "metadata": {},
     "output_type": "execute_result"
    }
   ],
   "source": [
    "df = pd.read_csv('housing.csv')\n",
    "df.head()"
   ]
  },
  {
   "cell_type": "code",
   "execution_count": 97,
   "id": "5047854d",
   "metadata": {
    "ExecuteTime": {
     "end_time": "2023-09-24T12:59:13.071554Z",
     "start_time": "2023-09-24T12:59:12.561337Z"
    }
   },
   "outputs": [
    {
     "data": {
      "image/png": "[encoded data removed]",
      "text/plain": [
       "<Figure size 1080x288 with 3 Axes>"
      ]
     },
     "metadata": {},
     "output_type": "display_data"
    },
    {
     "name": "stdout",
     "output_type": "stream",
     "text": [
      "kurtosis: 0.3275001388119616 || skewness: 0.9776922140978416\n",
      "the median house value has: 5.19 % outliers\n",
      "the average value of the outliers is: 499267\n"
     ]
    }
   ],
   "source": [
    "plt.figure(figsize=(15, 4))\n",
    "\n",
    "plt.subplot(131)  # 1 row, 3 columns, 1st subplot\n",
    "sns.histplot(df['median_house_value'], kde=True)\n",
    "plt.title(\"Distribution\")\n",
    "\n",
    "plt.subplot(132)  # 1 row, 3 columns, 2nd subplot\n",
    "probplot(df.median_house_value, dist=\"norm\", plot=plt)\n",
    "plt.title(\"Q-Q plot\")\n",
    "\n",
    "plt.subplot(133)  # 1 row, 3 columns, 3rd subplot\n",
    "sns.boxplot(data=df, x='median_house_value')\n",
    "plt.title(\"Boxplot\")\n",
    "\n",
    "plt.tight_layout()  # Ensures proper spacing\n",
    "plt.show()\n",
    "\n",
    "##########################################\n",
    "Q1 = np.percentile(df.median_house_value, 25)\n",
    "Q3 = np.percentile(df.median_house_value, 75)\n",
    "IQR = Q3 - Q1\n",
    "\n",
    "lower_bound = Q1 - 1.5 * IQR\n",
    "upper_bound = Q3 + 1.5 * IQR\n",
    "\n",
    "outliers = np.where((df.median_house_value < lower_bound) | (df.median_house_value > upper_bound))[0]\n",
    "\n",
    "print('kurtosis:',kurtosis(df.median_house_value), '|| skewness:',skew(df.median_house_value))\n",
    "print('the median house value has:',round(100*len(outliers)/len(df),2),'% outliers')\n",
    "print('the average value of the outliers is:',int(df.median_house_value[outliers].mean()))"
   ]
  },
  {
   "cell_type": "markdown",
   "id": "6a593e78",
   "metadata": {},
   "source": [
    "# Question 1"
   ]
  },
  {
   "cell_type": "code",
   "execution_count": 229,
   "id": "74ce6426",
   "metadata": {
    "ExecuteTime": {
     "end_time": "2023-09-24T13:46:08.515036Z",
     "start_time": "2023-09-24T13:46:08.501001Z"
    }
   },
   "outputs": [],
   "source": [
    "dt = df[(df.ocean_proximity == '<1H OCEAN') | (df.ocean_proximity == 'INLAND')][['latitude', 'longitude', 'housing_median_age', \\\n",
    "                    'total_rooms', 'total_bedrooms', 'population', 'households', 'median_income', 'median_house_value']]"
   ]
  },
  {
   "cell_type": "code",
   "execution_count": 230,
   "id": "56367d11",
   "metadata": {
    "ExecuteTime": {
     "end_time": "2023-09-24T13:46:08.716717Z",
     "start_time": "2023-09-24T13:46:08.697889Z"
    }
   },
   "outputs": [
    {
     "name": "stdout",
     "output_type": "stream",
     "text": [
      "feature with missing values: total_bedrooms\n"
     ]
    }
   ],
   "source": [
    "dt.isna().sum()\n",
    "print('feature with missing values: total_bedrooms')"
   ]
  },
  {
   "cell_type": "markdown",
   "id": "922eb87a",
   "metadata": {},
   "source": [
    "# Question 2"
   ]
  },
  {
   "cell_type": "code",
   "execution_count": 231,
   "id": "143df1c0",
   "metadata": {
    "ExecuteTime": {
     "end_time": "2023-09-24T13:46:11.264302Z",
     "start_time": "2023-09-24T13:46:11.253300Z"
    }
   },
   "outputs": [
    {
     "name": "stdout",
     "output_type": "stream",
     "text": [
      "median for population: 1195.0\n"
     ]
    }
   ],
   "source": [
    "print('median for population:', dt.population.median())"
   ]
  },
  {
   "cell_type": "markdown",
   "id": "ab057c01",
   "metadata": {},
   "source": [
    "# Question 3"
   ]
  },
  {
   "cell_type": "code",
   "execution_count": 232,
   "id": "b403145c",
   "metadata": {
    "ExecuteTime": {
     "end_time": "2023-09-24T13:46:20.347045Z",
     "start_time": "2023-09-24T13:46:20.329051Z"
    }
   },
   "outputs": [],
   "source": [
    "dt_full_train, dt_test = train_test_split(dt, test_size=0.2, random_state=42) # full train, test\n",
    "dt_train, dt_val = train_test_split(dt_full_train, test_size=0.25, random_state=42) # train, validation"
   ]
  },
  {
   "cell_type": "code",
   "execution_count": 241,
   "id": "e4382306",
   "metadata": {
    "ExecuteTime": {
     "end_time": "2023-09-24T13:49:20.846588Z",
     "start_time": "2023-09-24T13:49:20.506931Z"
    }
   },
   "outputs": [
    {
     "data": {
      "text/plain": [
       "Text(0.5, 1.0, 'log(1 + median house value)')"
      ]
     },
     "execution_count": 241,
     "metadata": {},
     "output_type": "execute_result"
    },
    {
     "data": {
      "image/png": "[encoded data removed]",
      "text/plain": [
       "<Figure size 1080x288 with 2 Axes>"
      ]
     },
     "metadata": {},
     "output_type": "display_data"
    }
   ],
   "source": [
    "plt.figure(figsize=(15, 4))\n",
    "\n",
    "plt.subplot(121)  # 1 row, 3 columns, 1st subplot\n",
    "dt.median_house_value.plot(kind='hist', bins=30, )\n",
    "plt.title(\"median house value\")\n",
    "\n",
    "plt.subplot(122)  # 1 row, 3 columns, 1st subplot\n",
    "np.log1p(dt.median_house_value).plot(kind='hist', bins=30)\n",
    "plt.title(\"log(1 + median house value)\")"
   ]
  },
  {
   "cell_type": "code",
   "execution_count": 242,
   "id": "1243f1a4",
   "metadata": {
    "ExecuteTime": {
     "end_time": "2023-09-24T13:49:43.228250Z",
     "start_time": "2023-09-24T13:49:43.217252Z"
    }
   },
   "outputs": [],
   "source": [
    "y_train_orig = dt_train.median_house_value.values\n",
    "y_val_orig = dt_val.median_house_value.values\n",
    "y_test_orig = dt_test.median_house_value.values\n",
    "\n",
    "y_train = np.log1p(dt_train.median_house_value.values)\n",
    "y_val = np.log1p(dt_val.median_house_value.values)\n",
    "y_test = np.log1p(dt_test.median_house_value.values)\n",
    "\n",
    "del dt_train['median_house_value']\n",
    "del dt_val['median_house_value']\n",
    "del dt_test['median_house_value']"
   ]
  },
  {
   "cell_type": "markdown",
   "id": "2f92fa97",
   "metadata": {},
   "source": [
    "## Method 1: fill with 0"
   ]
  },
  {
   "cell_type": "code",
   "execution_count": 309,
   "id": "e6261eaa",
   "metadata": {
    "ExecuteTime": {
     "end_time": "2023-09-24T14:05:01.619851Z",
     "start_time": "2023-09-24T14:05:01.610889Z"
    }
   },
   "outputs": [],
   "source": [
    "dt_train_0 = dt_train.fillna(0)\n",
    "dt_val_0 = dt_val.fillna(0)"
   ]
  },
  {
   "cell_type": "code",
   "execution_count": 316,
   "id": "05bd95ab",
   "metadata": {
    "ExecuteTime": {
     "end_time": "2023-09-24T14:05:24.213726Z",
     "start_time": "2023-09-24T14:05:24.194691Z"
    }
   },
   "outputs": [],
   "source": [
    "model_0 = LinearRegression()\n",
    "model_0.fit(dt_train_0, y_train)\n",
    "y_pred_0 = model_0.predict(dt_val_0)"
   ]
  },
  {
   "cell_type": "code",
   "execution_count": 323,
   "id": "b39e8b86",
   "metadata": {
    "ExecuteTime": {
     "end_time": "2023-09-24T14:06:44.688615Z",
     "start_time": "2023-09-24T14:06:44.673879Z"
    }
   },
   "outputs": [
    {
     "name": "stdout",
     "output_type": "stream",
     "text": [
      "Mean price for log(1 + median house value) on train dataset: 12.013082615504933 with RMSE: 0.34\n"
     ]
    }
   ],
   "source": [
    "print('Mean price for log(1 + median house value) on train dataset:',np.mean(y_train),'with RMSE:', round(np.sqrt(mean_squared_error(y_val, y_pred_0)),2))"
   ]
  },
  {
   "cell_type": "markdown",
   "id": "914e13c8",
   "metadata": {},
   "source": [
    "## Method 2: fill with mean"
   ]
  },
  {
   "cell_type": "code",
   "execution_count": 318,
   "id": "b0e9a5da",
   "metadata": {
    "ExecuteTime": {
     "end_time": "2023-09-24T14:05:24.636901Z",
     "start_time": "2023-09-24T14:05:24.620866Z"
    }
   },
   "outputs": [],
   "source": [
    "# null=dt_train[dt_train.total_bedrooms.isna()].index\n",
    "# test.loc[null]\n",
    "# test = dt_train.fillna(dt_train.total_bedrooms.mean())"
   ]
  },
  {
   "cell_type": "code",
   "execution_count": 319,
   "id": "585a6b53",
   "metadata": {
    "ExecuteTime": {
     "end_time": "2023-09-24T14:05:24.786229Z",
     "start_time": "2023-09-24T14:05:24.770476Z"
    }
   },
   "outputs": [],
   "source": [
    "dt_train_mean = dt_train.fillna(dt_train.total_bedrooms.mean())\n",
    "dt_val_mean = dt_val.fillna(dt_train.total_bedrooms.mean())"
   ]
  },
  {
   "cell_type": "code",
   "execution_count": 320,
   "id": "438640e9",
   "metadata": {
    "ExecuteTime": {
     "end_time": "2023-09-24T14:05:24.935792Z",
     "start_time": "2023-09-24T14:05:24.904540Z"
    }
   },
   "outputs": [],
   "source": [
    "model_mean = LinearRegression()\n",
    "model_mean.fit(dt_train_mean, y_train)\n",
    "y_pred_mean = model_0.predict(dt_val_mean)"
   ]
  },
  {
   "cell_type": "code",
   "execution_count": 322,
   "id": "2ffa0e49",
   "metadata": {
    "ExecuteTime": {
     "end_time": "2023-09-24T14:06:41.593081Z",
     "start_time": "2023-09-24T14:06:41.588053Z"
    }
   },
   "outputs": [
    {
     "name": "stdout",
     "output_type": "stream",
     "text": [
      "Mean price for log(1 + median house value) on train dataset: 12.013082615504933 with RMSE: 0.33\n"
     ]
    }
   ],
   "source": [
    "print('Mean price for log(1 + median house value) on train dataset:',np.mean(y_train),'with RMSE:', round(np.sqrt(mean_squared_error(y_val, y_pred_mean)),2))"
   ]
  },
  {
   "cell_type": "markdown",
   "id": "2488faf6",
   "metadata": {},
   "source": [
    "###### Both RMSEs are almost identical, however method 2 for mean imputation has better performance (0.33) "
   ]
  },
  {
   "cell_type": "markdown",
   "id": "ffe12b06",
   "metadata": {},
   "source": [
    "# Question 4"
   ]
  },
  {
   "cell_type": "code",
   "execution_count": 325,
   "id": "c1d8a491",
   "metadata": {
    "ExecuteTime": {
     "end_time": "2023-09-24T14:15:16.856929Z",
     "start_time": "2023-09-24T14:15:16.841904Z"
    }
   },
   "outputs": [],
   "source": [
    "alpha = [0, 0.000001, 0.0001, 0.001, 0.01, 0.1, 1, 5, 10]"
   ]
  },
  {
   "cell_type": "code",
   "execution_count": 342,
   "id": "4a8fce40",
   "metadata": {
    "ExecuteTime": {
     "end_time": "2023-09-24T14:30:09.185471Z",
     "start_time": "2023-09-24T14:30:09.035731Z"
    }
   },
   "outputs": [
    {
     "name": "stdout",
     "output_type": "stream",
     "text": [
      "For parameter r=0 ==> RMSE:0.34\n",
      "For parameter r=1e-06 ==> RMSE:0.34\n",
      "For parameter r=0.0001 ==> RMSE:0.34\n",
      "For parameter r=0.001 ==> RMSE:0.34\n",
      "For parameter r=0.01 ==> RMSE:0.34\n",
      "For parameter r=0.1 ==> RMSE:0.38\n",
      "For parameter r=1 ==> RMSE:0.54\n",
      "For parameter r=5 ==> RMSE:0.55\n",
      "For parameter r=10 ==> RMSE:0.55\n"
     ]
    }
   ],
   "source": [
    "dt_train_0 = dt_train.fillna(0)\n",
    "dt_val_0 = dt_val.fillna(0)\n",
    "\n",
    "alpha = [0, 0.000001, 0.0001, 0.001, 0.01, 0.1, 1, 5, 10]\n",
    "test={}\n",
    "\n",
    "for r in alpha:\n",
    "    lasso_model = Lasso(alpha=r)\n",
    "    lasso_model.fit(dt_train_0, y_train)\n",
    "\n",
    "    # Make predictions\n",
    "    y_pred = lasso_model.predict(dt_val_0)\n",
    "\n",
    "    # Evaluate the model\n",
    "    mse = mean_squared_error(y_val, y_pred)\n",
    "    test[r]=np.round(np.sqrt(mse),2)\n",
    "    \n",
    "    print(f\"For parameter r={r} ==> RMSE:{np.round(np.sqrt(mse),2)}\")"
   ]
  },
  {
   "cell_type": "markdown",
   "id": "e17bff67",
   "metadata": {
    "ExecuteTime": {
     "end_time": "2023-09-24T14:23:44.958413Z",
     "start_time": "2023-09-24T14:23:44.947424Z"
    }
   },
   "source": [
    "###### It seems that we have multiple parameters with the same minimum RMSE, however we select the smallest r=0"
   ]
  },
  {
   "cell_type": "markdown",
   "id": "555776e4",
   "metadata": {},
   "source": [
    "# Question 5"
   ]
  },
  {
   "cell_type": "code",
   "execution_count": 344,
   "id": "65ab8380",
   "metadata": {
    "ExecuteTime": {
     "end_time": "2023-09-24T14:33:47.382070Z",
     "start_time": "2023-09-24T14:33:47.275837Z"
    }
   },
   "outputs": [
    {
     "name": "stdout",
     "output_type": "stream",
     "text": [
      "Seed 0 with RMSE: 0.33\n",
      "Seed 1 with RMSE: 0.34\n",
      "Seed 2 with RMSE: 0.33\n",
      "Seed 3 with RMSE: 0.34\n",
      "Seed 4 with RMSE: 0.33\n",
      "Seed 5 with RMSE: 0.34\n",
      "Seed 6 with RMSE: 0.34\n",
      "Seed 7 with RMSE: 0.34\n",
      "Seed 8 with RMSE: 0.34\n",
      "Seed 9 with RMSE: 0.35\n"
     ]
    }
   ],
   "source": [
    "seed_performance={}\n",
    "\n",
    "for seed in [0, 1, 2, 3, 4, 5, 6, 7, 8, 9]:\n",
    "    dt_full_train, dt_test = train_test_split(dt, test_size=0.2, random_state=seed) # full train, test\n",
    "    dt_train, dt_val = train_test_split(dt_full_train, test_size=0.25, random_state=seed) # train, validation\n",
    "\n",
    "    y_train = np.log1p(dt_train.median_house_value.values)\n",
    "    y_val = np.log1p(dt_val.median_house_value.values)\n",
    "    y_test = np.log1p(dt_test.median_house_value.values)\n",
    "\n",
    "    del dt_train['median_house_value']\n",
    "    del dt_val['median_house_value']\n",
    "    del dt_test['median_house_value']\n",
    "    \n",
    "    dt_train_0 = dt_train.fillna(0)\n",
    "    dt_val_0 = dt_val.fillna(0)\n",
    "    \n",
    "    model_0 = LinearRegression()\n",
    "    model_0.fit(dt_train_0, y_train)\n",
    "    y_pred_0 = model_0.predict(dt_val_0)\n",
    "    rmse = round(np.sqrt(mean_squared_error(y_val, y_pred_0)),2)\n",
    "    \n",
    "    seed_performance[seed] = rmse\n",
    "    print(f'Seed {seed} with RMSE: {rmse}')"
   ]
  },
  {
   "cell_type": "code",
   "execution_count": 363,
   "id": "2ac9de73",
   "metadata": {
    "ExecuteTime": {
     "end_time": "2023-09-24T14:37:08.828316Z",
     "start_time": "2023-09-24T14:37:08.819280Z"
    }
   },
   "outputs": [],
   "source": [
    "std = np.round(np.std(list(seed_performance.values())), 3)"
   ]
  },
  {
   "cell_type": "code",
   "execution_count": 364,
   "id": "75534de6",
   "metadata": {
    "ExecuteTime": {
     "end_time": "2023-09-24T14:37:14.828599Z",
     "start_time": "2023-09-24T14:37:14.819602Z"
    }
   },
   "outputs": [
    {
     "name": "stdout",
     "output_type": "stream",
     "text": [
      "standard deviation of scores:0.006\n"
     ]
    }
   ],
   "source": [
    "print(f'standard deviation of scores:{std}')"
   ]
  },
  {
   "cell_type": "code",
   "execution_count": null,
   "id": "cb16371d",
   "metadata": {},
   "outputs": [],
   "source": []
  },
  {
   "cell_type": "markdown",
   "id": "8443285d",
   "metadata": {},
   "source": [
    "# Question 6"
   ]
  },
  {
   "cell_type": "code",
   "execution_count": 375,
   "id": "d56e148c",
   "metadata": {
    "ExecuteTime": {
     "end_time": "2023-09-24T17:24:23.962234Z",
     "start_time": "2023-09-24T17:24:23.909627Z"
    }
   },
   "outputs": [
    {
     "name": "stdout",
     "output_type": "stream",
     "text": [
      "RMSE on test dataset:0.35\n"
     ]
    }
   ],
   "source": [
    "dt_full_train, dt_test = train_test_split(dt, test_size=0.2, random_state=9) # full train, test\n",
    "dt_train, dt_val = train_test_split(dt_full_train, test_size=0.25, random_state=9) # train, validation\n",
    "\n",
    "y_full_train = np.log1p(dt_full_train.median_house_value.values) \n",
    "y_train = np.log1p(dt_train.median_house_value.values)\n",
    "y_val = np.log1p(dt_val.median_house_value.values)\n",
    "y_test = np.log1p(dt_test.median_house_value.values)\n",
    "\n",
    "del dt_full_train['median_house_value']\n",
    "del dt_train['median_house_value']\n",
    "del dt_val['median_house_value']\n",
    "del dt_test['median_house_value']\n",
    "\n",
    "# dt_train_0 = dt_train.fillna(0)\n",
    "# dt_val_0 = dt_val.fillna(0)\n",
    "dt_full_train_0 = dt_full_train.fillna(0)\n",
    "dt_test_0 = dt_test.fillna(0)\n",
    "\n",
    "model_0 = Lasso(alpha=0.001)\n",
    "model_0.fit(dt_full_train_0, y_full_train)\n",
    "y_pred_0 = model_0.predict(dt_test_0)\n",
    "\n",
    "rmse = round(np.sqrt(mean_squared_error(y_test, y_pred_0)),2)\n",
    "print(f'RMSE on test dataset:{rmse}')"
   ]
  },
  {
   "cell_type": "code",
   "execution_count": null,
   "id": "b45e3505",
   "metadata": {},
   "outputs": [],
   "source": []
  }
 ],
 "metadata": {
  "kernelspec": {
   "display_name": "Python 3",
   "language": "python",
   "name": "python3"
  },
  "language_info": {
   "codemirror_mode": {
    "name": "ipython",
    "version": 3
   },
   "file_extension": ".py",
   "mimetype": "text/x-python",
   "name": "python",
   "nbconvert_exporter": "python",
   "pygments_lexer": "ipython3",
   "version": "3.8.8"
  },
  "toc": {
   "base_numbering": 1,
   "nav_menu": {},
   "number_sections": true,
   "sideBar": true,
   "skip_h1_title": false,
   "title_cell": "Table of Contents",
   "title_sidebar": "Contents",
   "toc_cell": false,
   "toc_position": {},
   "toc_section_display": true,
   "toc_window_display": false
  }
 },
 "nbformat": 4,
 "nbformat_minor": 5
}
